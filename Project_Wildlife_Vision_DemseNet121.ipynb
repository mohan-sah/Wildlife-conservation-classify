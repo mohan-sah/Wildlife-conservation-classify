{
 "cells": [
  {
   "cell_type": "markdown",
   "id": "2449733b",
   "metadata": {
    "id": "2449733b"
   },
   "source": [
    "# Gathering the Dataset"
   ]
  },
  {
   "cell_type": "code",
   "execution_count": 1,
   "id": "f8d46f3e",
   "metadata": {
    "executionInfo": {
     "elapsed": 567,
     "status": "ok",
     "timestamp": 1714111744609,
     "user": {
      "displayName": "Sudeepa Parappa",
      "userId": "12968803475610236302"
     },
     "user_tz": -330
    },
    "id": "f8d46f3e",
    "tags": []
   },
   "outputs": [],
   "source": [
    "%matplotlib inline\n",
    "\n",
    "import matplotlib.pyplot as plt\n",
    "import pandas as pd\n",
    "from PIL import Image\n",
    "from tqdm import tqdm\n",
    "import os"
   ]
  },
  {
   "cell_type": "code",
   "execution_count": 2,
   "id": "c3329165",
   "metadata": {
    "executionInfo": {
     "elapsed": 2,
     "status": "ok",
     "timestamp": 1714111746699,
     "user": {
      "displayName": "Sudeepa Parappa",
      "userId": "12968803475610236302"
     },
     "user_tz": -330
    },
    "id": "c3329165",
    "tags": []
   },
   "outputs": [],
   "source": [
    "train_features = pd.read_csv(\"train_features.csv\", index_col=\"id\")\n",
    "test_features = pd.read_csv(\"test_features.csv\", index_col=\"id\")\n",
    "train_labels = pd.read_csv(\"train_labels.csv\", index_col=\"id\")"
   ]
  },
  {
   "cell_type": "code",
   "execution_count": 3,
   "id": "de894522",
   "metadata": {
    "colab": {
     "base_uri": "https://localhost:8080/",
     "height": 237
    },
    "executionInfo": {
     "elapsed": 6,
     "status": "ok",
     "timestamp": 1714038559619,
     "user": {
      "displayName": "Sudeepa Parappa",
      "userId": "12968803475610236302"
     },
     "user_tz": -330
    },
    "id": "de894522",
    "outputId": "3260f896-1fe2-4ad3-b044-d5ff95c360a5",
    "tags": []
   },
   "outputs": [
    {
     "data": {
      "text/html": [
       "<div>\n",
       "<style scoped>\n",
       "    .dataframe tbody tr th:only-of-type {\n",
       "        vertical-align: middle;\n",
       "    }\n",
       "\n",
       "    .dataframe tbody tr th {\n",
       "        vertical-align: top;\n",
       "    }\n",
       "\n",
       "    .dataframe thead th {\n",
       "        text-align: right;\n",
       "    }\n",
       "</style>\n",
       "<table border=\"1\" class=\"dataframe\">\n",
       "  <thead>\n",
       "    <tr style=\"text-align: right;\">\n",
       "      <th></th>\n",
       "      <th>filepath</th>\n",
       "      <th>site</th>\n",
       "    </tr>\n",
       "    <tr>\n",
       "      <th>id</th>\n",
       "      <th></th>\n",
       "      <th></th>\n",
       "    </tr>\n",
       "  </thead>\n",
       "  <tbody>\n",
       "    <tr>\n",
       "      <th>ZJ000000</th>\n",
       "      <td>train_features/ZJ000000.jpg</td>\n",
       "      <td>S0120</td>\n",
       "    </tr>\n",
       "    <tr>\n",
       "      <th>ZJ000001</th>\n",
       "      <td>train_features/ZJ000001.jpg</td>\n",
       "      <td>S0069</td>\n",
       "    </tr>\n",
       "    <tr>\n",
       "      <th>ZJ000002</th>\n",
       "      <td>train_features/ZJ000002.jpg</td>\n",
       "      <td>S0009</td>\n",
       "    </tr>\n",
       "    <tr>\n",
       "      <th>ZJ000003</th>\n",
       "      <td>train_features/ZJ000003.jpg</td>\n",
       "      <td>S0008</td>\n",
       "    </tr>\n",
       "    <tr>\n",
       "      <th>ZJ000004</th>\n",
       "      <td>train_features/ZJ000004.jpg</td>\n",
       "      <td>S0036</td>\n",
       "    </tr>\n",
       "  </tbody>\n",
       "</table>\n",
       "</div>"
      ],
      "text/plain": [
       "                             filepath   site\n",
       "id                                          \n",
       "ZJ000000  train_features/ZJ000000.jpg  S0120\n",
       "ZJ000001  train_features/ZJ000001.jpg  S0069\n",
       "ZJ000002  train_features/ZJ000002.jpg  S0009\n",
       "ZJ000003  train_features/ZJ000003.jpg  S0008\n",
       "ZJ000004  train_features/ZJ000004.jpg  S0036"
      ]
     },
     "execution_count": 3,
     "metadata": {},
     "output_type": "execute_result"
    }
   ],
   "source": [
    "train_features.head()"
   ]
  },
  {
   "cell_type": "code",
   "execution_count": 4,
   "id": "9e4f3d18",
   "metadata": {
    "colab": {
     "base_uri": "https://localhost:8080/"
    },
    "executionInfo": {
     "elapsed": 4,
     "status": "ok",
     "timestamp": 1714038561378,
     "user": {
      "displayName": "Sudeepa Parappa",
      "userId": "12968803475610236302"
     },
     "user_tz": -330
    },
    "id": "9e4f3d18",
    "outputId": "e06ec0ca-da8d-42e0-ad12-5af794a9d1de",
    "tags": []
   },
   "outputs": [
    {
     "data": {
      "text/plain": [
       "(16488, 2)"
      ]
     },
     "execution_count": 4,
     "metadata": {},
     "output_type": "execute_result"
    }
   ],
   "source": [
    "train_features.shape"
   ]
  },
  {
   "cell_type": "code",
   "execution_count": 5,
   "id": "7179927c",
   "metadata": {
    "colab": {
     "base_uri": "https://localhost:8080/",
     "height": 237
    },
    "executionInfo": {
     "elapsed": 452,
     "status": "ok",
     "timestamp": 1714038565529,
     "user": {
      "displayName": "Sudeepa Parappa",
      "userId": "12968803475610236302"
     },
     "user_tz": -330
    },
    "id": "7179927c",
    "outputId": "79ecd9a3-f62c-4808-f238-42ad0b6b929c",
    "tags": []
   },
   "outputs": [
    {
     "data": {
      "text/html": [
       "<div>\n",
       "<style scoped>\n",
       "    .dataframe tbody tr th:only-of-type {\n",
       "        vertical-align: middle;\n",
       "    }\n",
       "\n",
       "    .dataframe tbody tr th {\n",
       "        vertical-align: top;\n",
       "    }\n",
       "\n",
       "    .dataframe thead th {\n",
       "        text-align: right;\n",
       "    }\n",
       "</style>\n",
       "<table border=\"1\" class=\"dataframe\">\n",
       "  <thead>\n",
       "    <tr style=\"text-align: right;\">\n",
       "      <th></th>\n",
       "      <th>filepath</th>\n",
       "      <th>site</th>\n",
       "    </tr>\n",
       "    <tr>\n",
       "      <th>id</th>\n",
       "      <th></th>\n",
       "      <th></th>\n",
       "    </tr>\n",
       "  </thead>\n",
       "  <tbody>\n",
       "    <tr>\n",
       "      <th>ZJ016488</th>\n",
       "      <td>test_features/ZJ016488.jpg</td>\n",
       "      <td>S0082</td>\n",
       "    </tr>\n",
       "    <tr>\n",
       "      <th>ZJ016489</th>\n",
       "      <td>test_features/ZJ016489.jpg</td>\n",
       "      <td>S0040</td>\n",
       "    </tr>\n",
       "    <tr>\n",
       "      <th>ZJ016490</th>\n",
       "      <td>test_features/ZJ016490.jpg</td>\n",
       "      <td>S0040</td>\n",
       "    </tr>\n",
       "    <tr>\n",
       "      <th>ZJ016491</th>\n",
       "      <td>test_features/ZJ016491.jpg</td>\n",
       "      <td>S0041</td>\n",
       "    </tr>\n",
       "    <tr>\n",
       "      <th>ZJ016492</th>\n",
       "      <td>test_features/ZJ016492.jpg</td>\n",
       "      <td>S0040</td>\n",
       "    </tr>\n",
       "  </tbody>\n",
       "</table>\n",
       "</div>"
      ],
      "text/plain": [
       "                            filepath   site\n",
       "id                                         \n",
       "ZJ016488  test_features/ZJ016488.jpg  S0082\n",
       "ZJ016489  test_features/ZJ016489.jpg  S0040\n",
       "ZJ016490  test_features/ZJ016490.jpg  S0040\n",
       "ZJ016491  test_features/ZJ016491.jpg  S0041\n",
       "ZJ016492  test_features/ZJ016492.jpg  S0040"
      ]
     },
     "execution_count": 5,
     "metadata": {},
     "output_type": "execute_result"
    }
   ],
   "source": [
    "test_features.head()"
   ]
  },
  {
   "cell_type": "code",
   "execution_count": 6,
   "id": "ff711e37",
   "metadata": {
    "colab": {
     "base_uri": "https://localhost:8080/",
     "height": 237
    },
    "executionInfo": {
     "elapsed": 880,
     "status": "ok",
     "timestamp": 1714038566942,
     "user": {
      "displayName": "Sudeepa Parappa",
      "userId": "12968803475610236302"
     },
     "user_tz": -330
    },
    "id": "ff711e37",
    "outputId": "db4518f4-dd8f-430f-e90e-c2d739d8568d",
    "tags": []
   },
   "outputs": [
    {
     "data": {
      "text/html": [
       "<div>\n",
       "<style scoped>\n",
       "    .dataframe tbody tr th:only-of-type {\n",
       "        vertical-align: middle;\n",
       "    }\n",
       "\n",
       "    .dataframe tbody tr th {\n",
       "        vertical-align: top;\n",
       "    }\n",
       "\n",
       "    .dataframe thead th {\n",
       "        text-align: right;\n",
       "    }\n",
       "</style>\n",
       "<table border=\"1\" class=\"dataframe\">\n",
       "  <thead>\n",
       "    <tr style=\"text-align: right;\">\n",
       "      <th></th>\n",
       "      <th>antelope_duiker</th>\n",
       "      <th>bird</th>\n",
       "      <th>blank</th>\n",
       "      <th>civet_genet</th>\n",
       "      <th>hog</th>\n",
       "      <th>leopard</th>\n",
       "      <th>monkey_prosimian</th>\n",
       "      <th>rodent</th>\n",
       "    </tr>\n",
       "    <tr>\n",
       "      <th>id</th>\n",
       "      <th></th>\n",
       "      <th></th>\n",
       "      <th></th>\n",
       "      <th></th>\n",
       "      <th></th>\n",
       "      <th></th>\n",
       "      <th></th>\n",
       "      <th></th>\n",
       "    </tr>\n",
       "  </thead>\n",
       "  <tbody>\n",
       "    <tr>\n",
       "      <th>ZJ000000</th>\n",
       "      <td>0.0</td>\n",
       "      <td>1.0</td>\n",
       "      <td>0.0</td>\n",
       "      <td>0.0</td>\n",
       "      <td>0.0</td>\n",
       "      <td>0.0</td>\n",
       "      <td>0.0</td>\n",
       "      <td>0.0</td>\n",
       "    </tr>\n",
       "    <tr>\n",
       "      <th>ZJ000001</th>\n",
       "      <td>0.0</td>\n",
       "      <td>0.0</td>\n",
       "      <td>0.0</td>\n",
       "      <td>0.0</td>\n",
       "      <td>0.0</td>\n",
       "      <td>0.0</td>\n",
       "      <td>1.0</td>\n",
       "      <td>0.0</td>\n",
       "    </tr>\n",
       "    <tr>\n",
       "      <th>ZJ000002</th>\n",
       "      <td>0.0</td>\n",
       "      <td>1.0</td>\n",
       "      <td>0.0</td>\n",
       "      <td>0.0</td>\n",
       "      <td>0.0</td>\n",
       "      <td>0.0</td>\n",
       "      <td>0.0</td>\n",
       "      <td>0.0</td>\n",
       "    </tr>\n",
       "    <tr>\n",
       "      <th>ZJ000003</th>\n",
       "      <td>0.0</td>\n",
       "      <td>0.0</td>\n",
       "      <td>0.0</td>\n",
       "      <td>0.0</td>\n",
       "      <td>0.0</td>\n",
       "      <td>0.0</td>\n",
       "      <td>1.0</td>\n",
       "      <td>0.0</td>\n",
       "    </tr>\n",
       "    <tr>\n",
       "      <th>ZJ000004</th>\n",
       "      <td>0.0</td>\n",
       "      <td>0.0</td>\n",
       "      <td>0.0</td>\n",
       "      <td>0.0</td>\n",
       "      <td>0.0</td>\n",
       "      <td>1.0</td>\n",
       "      <td>0.0</td>\n",
       "      <td>0.0</td>\n",
       "    </tr>\n",
       "  </tbody>\n",
       "</table>\n",
       "</div>"
      ],
      "text/plain": [
       "          antelope_duiker  bird  blank  civet_genet  hog  leopard  \\\n",
       "id                                                                  \n",
       "ZJ000000              0.0   1.0    0.0          0.0  0.0      0.0   \n",
       "ZJ000001              0.0   0.0    0.0          0.0  0.0      0.0   \n",
       "ZJ000002              0.0   1.0    0.0          0.0  0.0      0.0   \n",
       "ZJ000003              0.0   0.0    0.0          0.0  0.0      0.0   \n",
       "ZJ000004              0.0   0.0    0.0          0.0  0.0      1.0   \n",
       "\n",
       "          monkey_prosimian  rodent  \n",
       "id                                  \n",
       "ZJ000000               0.0     0.0  \n",
       "ZJ000001               1.0     0.0  \n",
       "ZJ000002               0.0     0.0  \n",
       "ZJ000003               1.0     0.0  \n",
       "ZJ000004               0.0     0.0  "
      ]
     },
     "execution_count": 6,
     "metadata": {},
     "output_type": "execute_result"
    }
   ],
   "source": [
    "train_labels.head()"
   ]
  },
  {
   "cell_type": "code",
   "execution_count": 7,
   "id": "d5bcb1b4",
   "metadata": {
    "colab": {
     "base_uri": "https://localhost:8080/"
    },
    "executionInfo": {
     "elapsed": 6,
     "status": "ok",
     "timestamp": 1714056484317,
     "user": {
      "displayName": "Sudeepa Parappa",
      "userId": "12968803475610236302"
     },
     "user_tz": -330
    },
    "id": "d5bcb1b4",
    "outputId": "eb204e2a-3714-4e76-cce6-fd72d5bbba70",
    "tags": []
   },
   "outputs": [
    {
     "data": {
      "text/plain": [
       "['antelope_duiker',\n",
       " 'bird',\n",
       " 'blank',\n",
       " 'civet_genet',\n",
       " 'hog',\n",
       " 'leopard',\n",
       " 'monkey_prosimian',\n",
       " 'rodent']"
      ]
     },
     "execution_count": 7,
     "metadata": {},
     "output_type": "execute_result"
    }
   ],
   "source": [
    "species_labels = sorted(train_labels.columns.unique())\n",
    "species_labels"
   ]
  },
  {
   "cell_type": "markdown",
   "id": "f44e0b69",
   "metadata": {
    "id": "f44e0b69"
   },
   "source": [
    "# Explore the Data"
   ]
  },
  {
   "cell_type": "code",
   "execution_count": 8,
   "id": "f8526a48",
   "metadata": {
    "colab": {
     "base_uri": "https://localhost:8080/"
    },
    "executionInfo": {
     "elapsed": 10,
     "status": "ok",
     "timestamp": 1714038691294,
     "user": {
      "displayName": "Sudeepa Parappa",
      "userId": "12968803475610236302"
     },
     "user_tz": -330
    },
    "id": "f8526a48",
    "outputId": "28f84420-031f-404b-e228-5eb0cd3bf3e1",
    "tags": []
   },
   "outputs": [
    {
     "data": {
      "text/plain": [
       "monkey_prosimian    2492.0\n",
       "antelope_duiker     2474.0\n",
       "civet_genet         2423.0\n",
       "leopard             2254.0\n",
       "blank               2213.0\n",
       "rodent              2013.0\n",
       "bird                1641.0\n",
       "hog                  978.0\n",
       "dtype: float64"
      ]
     },
     "execution_count": 8,
     "metadata": {},
     "output_type": "execute_result"
    }
   ],
   "source": [
    "train_labels.sum().sort_values(ascending=False)"
   ]
  },
  {
   "cell_type": "code",
   "execution_count": 9,
   "id": "c9195c5f",
   "metadata": {
    "colab": {
     "base_uri": "https://localhost:8080/"
    },
    "executionInfo": {
     "elapsed": 7,
     "status": "ok",
     "timestamp": 1714038691294,
     "user": {
      "displayName": "Sudeepa Parappa",
      "userId": "12968803475610236302"
     },
     "user_tz": -330
    },
    "id": "c9195c5f",
    "outputId": "ff723b83-4822-4395-b37f-e79d51c139ac",
    "tags": []
   },
   "outputs": [
    {
     "data": {
      "text/plain": [
       "monkey_prosimian    0.151140\n",
       "antelope_duiker     0.150049\n",
       "civet_genet         0.146955\n",
       "leopard             0.136705\n",
       "blank               0.134219\n",
       "rodent              0.122089\n",
       "bird                0.099527\n",
       "hog                 0.059316\n",
       "dtype: float64"
      ]
     },
     "execution_count": 9,
     "metadata": {},
     "output_type": "execute_result"
    }
   ],
   "source": [
    "train_labels.sum().divide(train_labels.shape[0]).sort_values(ascending=False)"
   ]
  },
  {
   "cell_type": "markdown",
   "id": "zb_25ZQRlAdO",
   "metadata": {
    "id": "zb_25ZQRlAdO"
   },
   "source": [
    "# SPLIT INTO TRAIN AND EVALUATION SETS"
   ]
  },
  {
   "cell_type": "code",
   "execution_count": 10,
   "id": "_UbBXaOmk7tX",
   "metadata": {
    "id": "_UbBXaOmk7tX",
    "tags": []
   },
   "outputs": [],
   "source": [
    "from sklearn.model_selection import train_test_split\n",
    "\n",
    "# Reset the indices of train_features and train_labels\n",
    "train_features.reset_index(drop=True, inplace=True)\n",
    "train_labels.reset_index(drop=True, inplace=True)\n",
    "\n",
    "y = train_labels\n",
    "x = train_features.loc[y.index].filepath.to_frame()\n",
    "\n",
    "# note that we are casting the species labels to an indicator/dummy matrix\n",
    "x_train, x_val, y_train, y_val = train_test_split(\n",
    "    x, y, stratify=y, test_size=0.20\n",
    ")"
   ]
  },
  {
   "cell_type": "code",
   "execution_count": 11,
   "id": "c9a72d87",
   "metadata": {
    "colab": {
     "base_uri": "https://localhost:8080/",
     "height": 423
    },
    "executionInfo": {
     "elapsed": 18,
     "status": "ok",
     "timestamp": 1714038692097,
     "user": {
      "displayName": "Sudeepa Parappa",
      "userId": "12968803475610236302"
     },
     "user_tz": -330
    },
    "id": "c9a72d87",
    "outputId": "e0bdb8fe-0e7a-4d4e-cd35-6a0f1ab06caf",
    "tags": []
   },
   "outputs": [
    {
     "data": {
      "text/html": [
       "<div>\n",
       "<style scoped>\n",
       "    .dataframe tbody tr th:only-of-type {\n",
       "        vertical-align: middle;\n",
       "    }\n",
       "\n",
       "    .dataframe tbody tr th {\n",
       "        vertical-align: top;\n",
       "    }\n",
       "\n",
       "    .dataframe thead th {\n",
       "        text-align: right;\n",
       "    }\n",
       "</style>\n",
       "<table border=\"1\" class=\"dataframe\">\n",
       "  <thead>\n",
       "    <tr style=\"text-align: right;\">\n",
       "      <th></th>\n",
       "      <th>filepath</th>\n",
       "    </tr>\n",
       "  </thead>\n",
       "  <tbody>\n",
       "    <tr>\n",
       "      <th>13316</th>\n",
       "      <td>train_features/ZJ013316.jpg</td>\n",
       "    </tr>\n",
       "    <tr>\n",
       "      <th>15872</th>\n",
       "      <td>train_features/ZJ015872.jpg</td>\n",
       "    </tr>\n",
       "    <tr>\n",
       "      <th>3076</th>\n",
       "      <td>train_features/ZJ003076.jpg</td>\n",
       "    </tr>\n",
       "    <tr>\n",
       "      <th>8303</th>\n",
       "      <td>train_features/ZJ008303.jpg</td>\n",
       "    </tr>\n",
       "    <tr>\n",
       "      <th>12224</th>\n",
       "      <td>train_features/ZJ012224.jpg</td>\n",
       "    </tr>\n",
       "    <tr>\n",
       "      <th>...</th>\n",
       "      <td>...</td>\n",
       "    </tr>\n",
       "    <tr>\n",
       "      <th>12773</th>\n",
       "      <td>train_features/ZJ012773.jpg</td>\n",
       "    </tr>\n",
       "    <tr>\n",
       "      <th>3850</th>\n",
       "      <td>train_features/ZJ003850.jpg</td>\n",
       "    </tr>\n",
       "    <tr>\n",
       "      <th>4480</th>\n",
       "      <td>train_features/ZJ004480.jpg</td>\n",
       "    </tr>\n",
       "    <tr>\n",
       "      <th>13518</th>\n",
       "      <td>train_features/ZJ013518.jpg</td>\n",
       "    </tr>\n",
       "    <tr>\n",
       "      <th>16144</th>\n",
       "      <td>train_features/ZJ016144.jpg</td>\n",
       "    </tr>\n",
       "  </tbody>\n",
       "</table>\n",
       "<p>13190 rows × 1 columns</p>\n",
       "</div>"
      ],
      "text/plain": [
       "                          filepath\n",
       "13316  train_features/ZJ013316.jpg\n",
       "15872  train_features/ZJ015872.jpg\n",
       "3076   train_features/ZJ003076.jpg\n",
       "8303   train_features/ZJ008303.jpg\n",
       "12224  train_features/ZJ012224.jpg\n",
       "...                            ...\n",
       "12773  train_features/ZJ012773.jpg\n",
       "3850   train_features/ZJ003850.jpg\n",
       "4480   train_features/ZJ004480.jpg\n",
       "13518  train_features/ZJ013518.jpg\n",
       "16144  train_features/ZJ016144.jpg\n",
       "\n",
       "[13190 rows x 1 columns]"
      ]
     },
     "execution_count": 11,
     "metadata": {},
     "output_type": "execute_result"
    }
   ],
   "source": [
    "x_train"
   ]
  },
  {
   "cell_type": "code",
   "execution_count": 12,
   "id": "b0ddf80b",
   "metadata": {
    "colab": {
     "base_uri": "https://localhost:8080/",
     "height": 423
    },
    "executionInfo": {
     "elapsed": 17,
     "status": "ok",
     "timestamp": 1714038692097,
     "user": {
      "displayName": "Sudeepa Parappa",
      "userId": "12968803475610236302"
     },
     "user_tz": -330
    },
    "id": "b0ddf80b",
    "outputId": "04f314bb-8cd2-4705-83db-7786a09a2444",
    "tags": []
   },
   "outputs": [
    {
     "data": {
      "text/html": [
       "<div>\n",
       "<style scoped>\n",
       "    .dataframe tbody tr th:only-of-type {\n",
       "        vertical-align: middle;\n",
       "    }\n",
       "\n",
       "    .dataframe tbody tr th {\n",
       "        vertical-align: top;\n",
       "    }\n",
       "\n",
       "    .dataframe thead th {\n",
       "        text-align: right;\n",
       "    }\n",
       "</style>\n",
       "<table border=\"1\" class=\"dataframe\">\n",
       "  <thead>\n",
       "    <tr style=\"text-align: right;\">\n",
       "      <th></th>\n",
       "      <th>antelope_duiker</th>\n",
       "      <th>bird</th>\n",
       "      <th>blank</th>\n",
       "      <th>civet_genet</th>\n",
       "      <th>hog</th>\n",
       "      <th>leopard</th>\n",
       "      <th>monkey_prosimian</th>\n",
       "      <th>rodent</th>\n",
       "    </tr>\n",
       "  </thead>\n",
       "  <tbody>\n",
       "    <tr>\n",
       "      <th>13316</th>\n",
       "      <td>0.0</td>\n",
       "      <td>0.0</td>\n",
       "      <td>0.0</td>\n",
       "      <td>0.0</td>\n",
       "      <td>0.0</td>\n",
       "      <td>0.0</td>\n",
       "      <td>1.0</td>\n",
       "      <td>0.0</td>\n",
       "    </tr>\n",
       "    <tr>\n",
       "      <th>15872</th>\n",
       "      <td>0.0</td>\n",
       "      <td>0.0</td>\n",
       "      <td>0.0</td>\n",
       "      <td>0.0</td>\n",
       "      <td>0.0</td>\n",
       "      <td>0.0</td>\n",
       "      <td>1.0</td>\n",
       "      <td>0.0</td>\n",
       "    </tr>\n",
       "    <tr>\n",
       "      <th>3076</th>\n",
       "      <td>0.0</td>\n",
       "      <td>0.0</td>\n",
       "      <td>0.0</td>\n",
       "      <td>1.0</td>\n",
       "      <td>0.0</td>\n",
       "      <td>0.0</td>\n",
       "      <td>0.0</td>\n",
       "      <td>0.0</td>\n",
       "    </tr>\n",
       "    <tr>\n",
       "      <th>8303</th>\n",
       "      <td>0.0</td>\n",
       "      <td>0.0</td>\n",
       "      <td>0.0</td>\n",
       "      <td>0.0</td>\n",
       "      <td>0.0</td>\n",
       "      <td>0.0</td>\n",
       "      <td>1.0</td>\n",
       "      <td>0.0</td>\n",
       "    </tr>\n",
       "    <tr>\n",
       "      <th>12224</th>\n",
       "      <td>0.0</td>\n",
       "      <td>0.0</td>\n",
       "      <td>0.0</td>\n",
       "      <td>0.0</td>\n",
       "      <td>0.0</td>\n",
       "      <td>0.0</td>\n",
       "      <td>1.0</td>\n",
       "      <td>0.0</td>\n",
       "    </tr>\n",
       "    <tr>\n",
       "      <th>...</th>\n",
       "      <td>...</td>\n",
       "      <td>...</td>\n",
       "      <td>...</td>\n",
       "      <td>...</td>\n",
       "      <td>...</td>\n",
       "      <td>...</td>\n",
       "      <td>...</td>\n",
       "      <td>...</td>\n",
       "    </tr>\n",
       "    <tr>\n",
       "      <th>12773</th>\n",
       "      <td>0.0</td>\n",
       "      <td>0.0</td>\n",
       "      <td>0.0</td>\n",
       "      <td>0.0</td>\n",
       "      <td>0.0</td>\n",
       "      <td>0.0</td>\n",
       "      <td>1.0</td>\n",
       "      <td>0.0</td>\n",
       "    </tr>\n",
       "    <tr>\n",
       "      <th>3850</th>\n",
       "      <td>1.0</td>\n",
       "      <td>0.0</td>\n",
       "      <td>0.0</td>\n",
       "      <td>0.0</td>\n",
       "      <td>0.0</td>\n",
       "      <td>0.0</td>\n",
       "      <td>0.0</td>\n",
       "      <td>0.0</td>\n",
       "    </tr>\n",
       "    <tr>\n",
       "      <th>4480</th>\n",
       "      <td>0.0</td>\n",
       "      <td>0.0</td>\n",
       "      <td>1.0</td>\n",
       "      <td>0.0</td>\n",
       "      <td>0.0</td>\n",
       "      <td>0.0</td>\n",
       "      <td>0.0</td>\n",
       "      <td>0.0</td>\n",
       "    </tr>\n",
       "    <tr>\n",
       "      <th>13518</th>\n",
       "      <td>0.0</td>\n",
       "      <td>0.0</td>\n",
       "      <td>0.0</td>\n",
       "      <td>0.0</td>\n",
       "      <td>0.0</td>\n",
       "      <td>1.0</td>\n",
       "      <td>0.0</td>\n",
       "      <td>0.0</td>\n",
       "    </tr>\n",
       "    <tr>\n",
       "      <th>16144</th>\n",
       "      <td>0.0</td>\n",
       "      <td>1.0</td>\n",
       "      <td>0.0</td>\n",
       "      <td>0.0</td>\n",
       "      <td>0.0</td>\n",
       "      <td>0.0</td>\n",
       "      <td>0.0</td>\n",
       "      <td>0.0</td>\n",
       "    </tr>\n",
       "  </tbody>\n",
       "</table>\n",
       "<p>13190 rows × 8 columns</p>\n",
       "</div>"
      ],
      "text/plain": [
       "       antelope_duiker  bird  blank  civet_genet  hog  leopard  \\\n",
       "13316              0.0   0.0    0.0          0.0  0.0      0.0   \n",
       "15872              0.0   0.0    0.0          0.0  0.0      0.0   \n",
       "3076               0.0   0.0    0.0          1.0  0.0      0.0   \n",
       "8303               0.0   0.0    0.0          0.0  0.0      0.0   \n",
       "12224              0.0   0.0    0.0          0.0  0.0      0.0   \n",
       "...                ...   ...    ...          ...  ...      ...   \n",
       "12773              0.0   0.0    0.0          0.0  0.0      0.0   \n",
       "3850               1.0   0.0    0.0          0.0  0.0      0.0   \n",
       "4480               0.0   0.0    1.0          0.0  0.0      0.0   \n",
       "13518              0.0   0.0    0.0          0.0  0.0      1.0   \n",
       "16144              0.0   1.0    0.0          0.0  0.0      0.0   \n",
       "\n",
       "       monkey_prosimian  rodent  \n",
       "13316               1.0     0.0  \n",
       "15872               1.0     0.0  \n",
       "3076                0.0     0.0  \n",
       "8303                1.0     0.0  \n",
       "12224               1.0     0.0  \n",
       "...                 ...     ...  \n",
       "12773               1.0     0.0  \n",
       "3850                0.0     0.0  \n",
       "4480                0.0     0.0  \n",
       "13518               0.0     0.0  \n",
       "16144               0.0     0.0  \n",
       "\n",
       "[13190 rows x 8 columns]"
      ]
     },
     "execution_count": 12,
     "metadata": {},
     "output_type": "execute_result"
    }
   ],
   "source": [
    "y_train"
   ]
  },
  {
   "cell_type": "code",
   "execution_count": 13,
   "id": "a591e615",
   "metadata": {
    "colab": {
     "base_uri": "https://localhost:8080/"
    },
    "executionInfo": {
     "elapsed": 17,
     "status": "ok",
     "timestamp": 1714038692098,
     "user": {
      "displayName": "Sudeepa Parappa",
      "userId": "12968803475610236302"
     },
     "user_tz": -330
    },
    "id": "a591e615",
    "outputId": "685b54ae-1437-4a46-c93c-0213391b248f",
    "tags": []
   },
   "outputs": [
    {
     "data": {
      "text/plain": [
       "((13190, 1), (13190, 8), (3298, 1), (3298, 8))"
      ]
     },
     "execution_count": 13,
     "metadata": {},
     "output_type": "execute_result"
    }
   ],
   "source": [
    "x_train.shape, y_train.shape, x_val.shape, y_val.shape"
   ]
  },
  {
   "cell_type": "markdown",
   "id": "632c1aea",
   "metadata": {
    "id": "632c1aea"
   },
   "source": [
    "Next, let's validate that our split has resulted in roughly similar relative distributions of species across the train and eval sets (because of how we passed stratify=y above)."
   ]
  },
  {
   "cell_type": "code",
   "execution_count": 14,
   "id": "b7f58e02",
   "metadata": {
    "colab": {
     "base_uri": "https://localhost:8080/"
    },
    "executionInfo": {
     "elapsed": 16,
     "status": "ok",
     "timestamp": 1714038692098,
     "user": {
      "displayName": "Sudeepa Parappa",
      "userId": "12968803475610236302"
     },
     "user_tz": -330
    },
    "id": "b7f58e02",
    "outputId": "a1661f91-7e88-462c-da1a-b25045042caa",
    "tags": []
   },
   "outputs": [
    {
     "name": "stdout",
     "output_type": "stream",
     "text": [
      "Species percentages by split\n",
      "                 train eval\n",
      "monkey_prosimian   15%  15%\n",
      "antelope_duiker    15%  15%\n",
      "civet_genet        14%  14%\n",
      "leopard            13%  13%\n",
      "blank              13%  13%\n",
      "rodent             12%  12%\n",
      "bird                9%   9%\n",
      "hog                 5%   5%\n"
     ]
    },
    {
     "name": "stderr",
     "output_type": "stream",
     "text": [
      "/tmp/ipykernel_1664/4081644741.py:9: FutureWarning: DataFrame.applymap has been deprecated. Use DataFrame.map instead.\n",
      "  print((split_pcts.fillna(0) * 100).astype(int).applymap(lambda x: f\"{x}%\" if not np.isnan(x) else \"\"))\n"
     ]
    }
   ],
   "source": [
    "import numpy as np\n",
    "split_pcts = pd.DataFrame(\n",
    "    {\n",
    "        \"train\": y_train.idxmax(axis=1).value_counts(normalize=True),\n",
    "        \"eval\": y_val.idxmax(axis=1).value_counts(normalize=True),\n",
    "    }\n",
    ")\n",
    "print(\"Species percentages by split\")\n",
    "print((split_pcts.fillna(0) * 100).astype(int).applymap(lambda x: f\"{x}%\" if not np.isnan(x) else \"\"))"
   ]
  },
  {
   "cell_type": "markdown",
   "id": "102d8848",
   "metadata": {
    "id": "102d8848"
   },
   "source": [
    "# Build The Model"
   ]
  },
  {
   "cell_type": "markdown",
   "id": "bb94a428",
   "metadata": {
    "id": "bb94a428"
   },
   "source": [
    "Now we can start building our model.\n",
    "\n",
    "## The Dataset\n",
    "First, we'll create an ImagesDataset class that will define how we access our data and any transformations we might want to apply.\n",
    "\n",
    "This new class will inherit from the PyTorch Dataset class, but we'll also need to define our own __init__, __len__ and __getitem__ special methods:\n",
    "\n",
    "1. __init__ will instantiate the dataset object with two dataframes: an x_train df containing image IDs and image file paths, and a y_train df containing image IDs and labels. This will run once when we first create the dataset object, e.g. with dataset = ImagesDataset(x_train, y_train).\n",
    "2. __getitem__ will define how we access a sample from the data. This method gets called whenever we use an indexing operation like dataset[index]. In this case, whenever accessing a particular image sample (for example, to get the first image we'd do dataset[0]) the following will happen:\n",
    "* look up the image filepath using the index\n",
    "* load the image with PIL.Image\n",
    "* apply some transformations (more on this below)\n",
    "* return a dictionary containing the image ID, the image itself as a Tensor, and a label (if it exists)\n",
    "3. __len__ simply returns the size of the dataset, which we do by calling len on the input dataframe."
   ]
  },
  {
   "cell_type": "code",
   "execution_count": 15,
   "id": "00d91497",
   "metadata": {
    "id": "00d91497",
    "tags": []
   },
   "outputs": [],
   "source": [
    "import torch\n",
    "from torch.utils.data import Dataset\n",
    "from torchvision import transforms\n",
    "from PIL import Image\n",
    "import os\n",
    "\n",
    "# Define your dataset class\n",
    "class ImagesDataset(Dataset):\n",
    "    def __init__(self, x_df, y_df=None):\n",
    "        self.data = x_df\n",
    "        self.label = y_df\n",
    "        self.transform = transforms.Compose([\n",
    "            transforms.Resize((224, 224)),\n",
    "            transforms.RandomHorizontalFlip(p=1),\n",
    "            transforms.RandomAdjustSharpness(sharpness_factor=2),\n",
    "            transforms.RandomPerspective(distortion_scale=0.3, p=0.5),\n",
    "            transforms.ToTensor(),\n",
    "            transforms.Normalize(mean=[0.485, 0.456, 0.406], std=[0.229, 0.224, 0.225]),\n",
    "        ])\n",
    "        # Define the path to the directory containing images\n",
    "        self.image_dir = 'data'\n",
    "\n",
    "    def __getitem__(self, idx):\n",
    "        img_name = self.data.iloc[idx][\"filepath\"]  # Assuming filepath is the column name\n",
    "        img_path = os.path.join(self.image_dir, img_name)  # Construct the full image path\n",
    "        image = Image.open(img_path).convert('RGB')\n",
    "        if self.transform:\n",
    "            image = self.transform(image)\n",
    "        image_id = self.data.index[idx]\n",
    "        if self.label is None:\n",
    "            sample = {\"image_id\": image_id, \"image\": image}\n",
    "        else:\n",
    "            label = torch.tensor(self.label.iloc[idx].values, dtype=torch.float)\n",
    "            sample = {\"image_id\": image_id, \"image\": image, \"label\": label}\n",
    "        return sample\n",
    "\n",
    "    def __len__(self):\n",
    "        return len(self.data)"
   ]
  },
  {
   "cell_type": "code",
   "execution_count": 16,
   "id": "QrtHB1u7lZXx",
   "metadata": {
    "colab": {
     "base_uri": "https://localhost:8080/"
    },
    "executionInfo": {
     "elapsed": 8,
     "status": "ok",
     "timestamp": 1714056498156,
     "user": {
      "displayName": "Sudeepa Parappa",
      "userId": "12968803475610236302"
     },
     "user_tz": -330
    },
    "id": "QrtHB1u7lZXx",
    "outputId": "6f07d51f-428d-4c68-adfe-3da48a129210",
    "tags": []
   },
   "outputs": [
    {
     "data": {
      "text/plain": [
       "device(type='cuda')"
      ]
     },
     "execution_count": 16,
     "metadata": {},
     "output_type": "execute_result"
    }
   ],
   "source": [
    "# Use GPU for training\n",
    "device = torch.device(\"cuda\" if torch.cuda.is_available() else \"cpu\")\n",
    "device"
   ]
  },
  {
   "cell_type": "markdown",
   "id": "06db44a0",
   "metadata": {
    "id": "06db44a0"
   },
   "source": [
    "Notice that we are also defining a set of transformations, which are defined in the __init__ and called in the __getitem__ special methods. These are applied to each image before returning it. Here's what each of those transformations do and why:\n",
    "\n",
    "* transforms.Resize((224, 224)) ResNet50 was trained on images of size 224x224 so we resize to the same dimensions here. See pytorch docs and the ResNet paper.\n",
    "* transforms.ToTensor() converts the image to a tensor. Since we are passing in a PIL Image at this point, PyTorch can recognize it as an RGB image and will automatically convert the input values which are in the range [0, 255] to a range of [0, 1]. See more from the PyTorch docs.\n",
    "* transforms.Normalize(...) normalizes the image tensors using the mean and standard deviation of ImageNet images. Because this transformation was applied to images when training the ResNet model, we want to do the same here with our images. See more from the PyTorch docs on pretrained models."
   ]
  },
  {
   "cell_type": "markdown",
   "id": "3459d879",
   "metadata": {
    "id": "3459d879"
   },
   "source": [
    "# The DataLoader\n",
    "Next, we need to load the dataset into a dataloader. The DataLoader class lets us iterate through our dataset in batches."
   ]
  },
  {
   "cell_type": "code",
   "execution_count": 17,
   "id": "8290c879",
   "metadata": {
    "id": "8290c879",
    "tags": []
   },
   "outputs": [
    {
     "name": "stderr",
     "output_type": "stream",
     "text": [
      "/home/studio-lab-user/.conda/envs/default/lib/python3.9/site-packages/torch/utils/data/dataloader.py:558: UserWarning: This DataLoader will create 10 worker processes in total. Our suggested max number of worker in current system is 4, which is smaller than what this DataLoader is going to create. Please be aware that excessive worker creation might get DataLoader running slow or even freeze, lower the worker number to avoid potential slowness/freeze if necessary.\n",
      "  warnings.warn(_create_warning_msg(\n"
     ]
    }
   ],
   "source": [
    "from torch.utils.data import DataLoader\n",
    "# Create data loaders\n",
    "train_dataset = ImagesDataset(x_train, y_train)\n",
    "train_dataloader = DataLoader(train_dataset, batch_size=64, num_workers=10)"
   ]
  },
  {
   "cell_type": "markdown",
   "id": "eaa6e214",
   "metadata": {
    "id": "eaa6e214"
   },
   "source": [
    "# Training the Model (DenseNet-121)\n",
    "\n",
    "Now it's time to start building our model and then training it.\n",
    "\n",
    "We'll use a pretrained ResNet50 model as our backbone. ResNets are one of the more popular networks for image classification tasks. The pretrained model outputs a 2048-dimension embedding, which we will then connect to two more dense layers, with a ReLU and Dropout step in between.\n",
    "\n",
    "These final layers, defined in model.fc, are the new \"head\" of our model, and allow us to transform the image embeddings produced by the pretrained \"backbone\" into the 8-dimensional output required to learn the species classification task we're tackling here. Prior to redefining it below, model.fc would be the final, dense layer connecting the 2048-dimension embedding to a 1000-dimension output (corresponding to the 1000 ImageNet classes that the pretrained model was trained on). We will instead prepare the model for the current task by redefining model.fc to produce an 8-dimensional output corresponding to our 8 species classes (including blanks).\n",
    "\n",
    "We'll also add a couple more layers in between. The ReLU layer introduces non-linearity into the model head, in effect activating important features and suppressing noise. And the Dropout layer is a commonly used regularization component that randomly drops some nodes from the previous layer's outputs (10% of nodes in this case) during each training step, mitigating our risk of overfitting."
   ]
  },
  {
   "cell_type": "code",
   "execution_count": 18,
   "id": "daf297de",
   "metadata": {
    "colab": {
     "base_uri": "https://localhost:8080/"
    },
    "executionInfo": {
     "elapsed": 605,
     "status": "ok",
     "timestamp": 1714056498756,
     "user": {
      "displayName": "Sudeepa Parappa",
      "userId": "12968803475610236302"
     },
     "user_tz": -330
    },
    "id": "daf297de",
    "outputId": "2dc65d8d-d70a-4ce3-fc74-a298b49c84e7",
    "tags": []
   },
   "outputs": [
    {
     "name": "stderr",
     "output_type": "stream",
     "text": [
      "/home/studio-lab-user/.conda/envs/default/lib/python3.9/site-packages/torchvision/models/_utils.py:208: UserWarning: The parameter 'pretrained' is deprecated since 0.13 and may be removed in the future, please use 'weights' instead.\n",
      "  warnings.warn(\n",
      "/home/studio-lab-user/.conda/envs/default/lib/python3.9/site-packages/torchvision/models/_utils.py:223: UserWarning: Arguments other than a weight enum or `None` for 'weights' are deprecated since 0.13 and may be removed in the future. The current behavior is equivalent to passing `weights=DenseNet121_Weights.IMAGENET1K_V1`. You can also use `weights=DenseNet121_Weights.DEFAULT` to get the most up-to-date weights.\n",
      "  warnings.warn(msg)\n"
     ]
    }
   ],
   "source": [
    "from torch import nn\n",
    "import torchvision.models as models\n",
    "\n",
    "# Define the model\n",
    "model = models.densenet121(pretrained=True).to(device)\n",
    "\n",
    "# Modify the fully connected layers (model.classifier)\n",
    "model.classifier = nn.Sequential(\n",
    "    nn.Linear(1024, 512),  # Adjusted input size to match the output size of the preceding layer\n",
    "    nn.ReLU(inplace=True),  # Add ReLU activation function\n",
    "    nn.Dropout(0.3),         # Add dropout layer with a dropout probability of 0.3\n",
    "    nn.Linear(512, 8),       # Adjusted input size to match the output size of the previous layer\n",
    ").to(device)"
   ]
  },
  {
   "cell_type": "markdown",
   "id": "51381444",
   "metadata": {
    "id": "51381444"
   },
   "source": [
    "# Define our loss function"
   ]
  },
  {
   "cell_type": "code",
   "execution_count": 19,
   "id": "de97ab5e",
   "metadata": {
    "id": "de97ab5e",
    "tags": []
   },
   "outputs": [],
   "source": [
    "import torch.optim as optim\n",
    "\n",
    "criterion = nn.CrossEntropyLoss()\n",
    "optimizer = optim.SGD(model.parameters(), lr=0.001, momentum=0.9)"
   ]
  },
  {
   "cell_type": "markdown",
   "id": "e61e1e45",
   "metadata": {
    "id": "e61e1e45"
   },
   "source": [
    "# Train the model\n"
   ]
  },
  {
   "cell_type": "code",
   "execution_count": 20,
   "id": "ade26687",
   "metadata": {
    "colab": {
     "base_uri": "https://localhost:8080/"
    },
    "executionInfo": {
     "elapsed": 1020436,
     "status": "ok",
     "timestamp": 1714059980209,
     "user": {
      "displayName": "Sudeepa Parappa",
      "userId": "12968803475610236302"
     },
     "user_tz": -330
    },
    "id": "ade26687",
    "outputId": "18f35e73-6eb6-4069-9541-21b6e221f953",
    "tags": []
   },
   "outputs": [
    {
     "name": "stderr",
     "output_type": "stream",
     "text": [
      "Epoch 1/20:   1%|          | 2/207 [00:05<08:12,  2.40s/batch, Loss=0.0202]/home/studio-lab-user/.conda/envs/default/lib/python3.9/site-packages/torch/autograd/graph.py:744: UserWarning: Plan failed with an OutOfMemoryError: CUDA out of memory. Tried to allocate 256.00 MiB. GPU  (Triggered internally at ../aten/src/ATen/native/cudnn/Conv_v8.cpp:924.)\n",
      "  return Variable._execution_engine.run_backward(  # Calls into the C++ engine to run the backward pass\n",
      "Epoch 1/20: 100%|██████████| 207/207 [02:09<00:00,  1.60batch/s, Loss=1.66] \n",
      "Epoch 2/20: 100%|██████████| 207/207 [02:07<00:00,  1.63batch/s, Loss=1.2]  \n",
      "Epoch 3/20: 100%|██████████| 207/207 [02:20<00:00,  1.47batch/s, Loss=0.897]\n",
      "Epoch 4/20: 100%|██████████| 207/207 [02:07<00:00,  1.62batch/s, Loss=0.674]\n",
      "Epoch 5/20: 100%|██████████| 207/207 [02:07<00:00,  1.62batch/s, Loss=0.515]\n",
      "Epoch 6/20: 100%|██████████| 207/207 [02:07<00:00,  1.62batch/s, Loss=0.418]\n",
      "Epoch 7/20: 100%|██████████| 207/207 [02:07<00:00,  1.62batch/s, Loss=0.341] \n",
      "Epoch 8/20: 100%|██████████| 207/207 [02:07<00:00,  1.62batch/s, Loss=0.29]  \n",
      "Epoch 9/20: 100%|██████████| 207/207 [02:07<00:00,  1.62batch/s, Loss=0.25]  \n",
      "Epoch 10/20: 100%|██████████| 207/207 [02:07<00:00,  1.62batch/s, Loss=0.218]\n",
      "Epoch 11/20: 100%|██████████| 207/207 [02:07<00:00,  1.62batch/s, Loss=0.194] \n",
      "Epoch 12/20: 100%|██████████| 207/207 [02:07<00:00,  1.62batch/s, Loss=0.172] \n",
      "Epoch 13/20: 100%|██████████| 207/207 [02:07<00:00,  1.62batch/s, Loss=0.151] \n",
      "Epoch 14/20: 100%|██████████| 207/207 [02:07<00:00,  1.63batch/s, Loss=0.134] \n",
      "Epoch 15/20: 100%|██████████| 207/207 [02:07<00:00,  1.62batch/s, Loss=0.131] \n",
      "Epoch 16/20: 100%|██████████| 207/207 [02:07<00:00,  1.62batch/s, Loss=0.115] \n",
      "Epoch 17/20: 100%|██████████| 207/207 [02:07<00:00,  1.62batch/s, Loss=0.107] \n",
      "Epoch 18/20: 100%|██████████| 207/207 [02:07<00:00,  1.62batch/s, Loss=0.099] \n",
      "Epoch 19/20: 100%|██████████| 207/207 [02:07<00:00,  1.62batch/s, Loss=0.0915]\n",
      "Epoch 20/20: 100%|██████████| 207/207 [02:07<00:00,  1.62batch/s, Loss=0.0873]\n"
     ]
    }
   ],
   "source": [
    "import matplotlib.pyplot as plt\n",
    "\n",
    "num_epochs = 20\n",
    "training_losses = []  # To collect the loss for each epoch\n",
    "\n",
    "for epoch in range(num_epochs):\n",
    "    model.train()\n",
    "    training_loss = 0.0\n",
    "    with tqdm(total=len(train_dataloader), desc=f'Epoch {epoch + 1}/{num_epochs}', unit='batch') as progress_bar:\n",
    "        for batch_n, batch in enumerate(train_dataloader):\n",
    "            inputs, labels = batch['image'].to(device), batch['label'].to(device)  # Move data to GPU\n",
    "            optimizer.zero_grad()\n",
    "            outputs = model(inputs)\n",
    "            loss = criterion(outputs, labels)\n",
    "            loss.backward()\n",
    "            optimizer.step()\n",
    "            training_loss += loss.item()\n",
    "            progress_bar.set_postfix({'Loss': training_loss / (len(train_dataloader) + 1e-9)})\n",
    "            progress_bar.update()\n",
    "\n",
    "            # Append the training loss to the list with the custom index\n",
    "            training_losses.append((epoch, training_loss / (batch_n + 1)))  # Append tuple (epoch, loss)\n",
    "\n",
    "# Convert training_losses to a pandas DataFrame\n",
    "tracking_loss_df = pd.DataFrame(training_losses, columns=['Epoch', 'Loss'])"
   ]
  },
  {
   "cell_type": "code",
   "execution_count": 21,
   "id": "pFtBN85GkV7_",
   "metadata": {
    "colab": {
     "base_uri": "https://localhost:8080/",
     "height": 371
    },
    "executionInfo": {
     "elapsed": 1267,
     "status": "ok",
     "timestamp": 1714059983404,
     "user": {
      "displayName": "Sudeepa Parappa",
      "userId": "12968803475610236302"
     },
     "user_tz": -330
    },
    "id": "pFtBN85GkV7_",
    "outputId": "64b7be89-ba96-4fbe-cba2-f8f9676d6238",
    "tags": []
   },
   "outputs": [
    {
     "data": {
      "image/png": "[encoded data removed]",
      "text/plain": [
       "<Figure size 1000x600 with 1 Axes>"
      ]
     },
     "metadata": {},
     "output_type": "display_data"
    }
   ],
   "source": [
    "import matplotlib.pyplot as plt\n",
    "\n",
    "# Calculate moving average of training loss over each epoch\n",
    "window_size = 3\n",
    "tracking_loss_df['Moving Average Loss'] = tracking_loss_df['Loss'].rolling(window=window_size, min_periods=1).mean()\n",
    "\n",
    "# Plotting the comparison plot\n",
    "plt.figure(figsize=(10, 6))\n",
    "\n",
    "# Plot training loss\n",
    "plt.plot(tracking_loss_df['Epoch'], tracking_loss_df['Loss'], label='Training Loss', marker='o', color='blue')\n",
    "\n",
    "# Plot moving average training loss\n",
    "plt.plot(tracking_loss_df['Epoch'], tracking_loss_df['Moving Average Loss'], label='Moving Average Training Loss', linestyle='--', color='orange')\n",
    "\n",
    "# Highlight the last few points for clarity\n",
    "plt.scatter(tracking_loss_df['Epoch'][-window_size:], tracking_loss_df['Moving Average Loss'][-window_size:], color='red', zorder=5)\n",
    "\n",
    "# Adding labels, title, legend, and grid\n",
    "plt.xlabel('Epoch')\n",
    "plt.ylabel('Loss')\n",
    "plt.title('Training Loss vs. Moving Average Training Loss')\n",
    "plt.legend()\n",
    "plt.grid(True)\n",
    "\n",
    "# Show plot\n",
    "plt.tight_layout()\n",
    "plt.show()"
   ]
  },
  {
   "cell_type": "code",
   "execution_count": 22,
   "id": "z1DDtiRRi0Dp",
   "metadata": {
    "colab": {
     "base_uri": "https://localhost:8080/",
     "height": 423
    },
    "executionInfo": {
     "elapsed": 52,
     "status": "ok",
     "timestamp": 1714059983404,
     "user": {
      "displayName": "Sudeepa Parappa",
      "userId": "12968803475610236302"
     },
     "user_tz": -330
    },
    "id": "z1DDtiRRi0Dp",
    "outputId": "e17155f5-0f25-4004-beb7-92233ffd8739",
    "tags": []
   },
   "outputs": [
    {
     "data": {
      "text/html": [
       "<div>\n",
       "<style scoped>\n",
       "    .dataframe tbody tr th:only-of-type {\n",
       "        vertical-align: middle;\n",
       "    }\n",
       "\n",
       "    .dataframe tbody tr th {\n",
       "        vertical-align: top;\n",
       "    }\n",
       "\n",
       "    .dataframe thead th {\n",
       "        text-align: right;\n",
       "    }\n",
       "</style>\n",
       "<table border=\"1\" class=\"dataframe\">\n",
       "  <thead>\n",
       "    <tr style=\"text-align: right;\">\n",
       "      <th></th>\n",
       "      <th>Epoch</th>\n",
       "      <th>Loss</th>\n",
       "      <th>Moving Average Loss</th>\n",
       "    </tr>\n",
       "  </thead>\n",
       "  <tbody>\n",
       "    <tr>\n",
       "      <th>0</th>\n",
       "      <td>0</td>\n",
       "      <td>2.108417</td>\n",
       "      <td>2.108417</td>\n",
       "    </tr>\n",
       "    <tr>\n",
       "      <th>1</th>\n",
       "      <td>0</td>\n",
       "      <td>2.090070</td>\n",
       "      <td>2.099244</td>\n",
       "    </tr>\n",
       "    <tr>\n",
       "      <th>2</th>\n",
       "      <td>0</td>\n",
       "      <td>2.098248</td>\n",
       "      <td>2.098912</td>\n",
       "    </tr>\n",
       "    <tr>\n",
       "      <th>3</th>\n",
       "      <td>0</td>\n",
       "      <td>2.098414</td>\n",
       "      <td>2.095577</td>\n",
       "    </tr>\n",
       "    <tr>\n",
       "      <th>4</th>\n",
       "      <td>0</td>\n",
       "      <td>2.095178</td>\n",
       "      <td>2.097280</td>\n",
       "    </tr>\n",
       "    <tr>\n",
       "      <th>...</th>\n",
       "      <td>...</td>\n",
       "      <td>...</td>\n",
       "      <td>...</td>\n",
       "    </tr>\n",
       "    <tr>\n",
       "      <th>4135</th>\n",
       "      <td>19</td>\n",
       "      <td>0.087220</td>\n",
       "      <td>0.087187</td>\n",
       "    </tr>\n",
       "    <tr>\n",
       "      <th>4136</th>\n",
       "      <td>19</td>\n",
       "      <td>0.087077</td>\n",
       "      <td>0.087160</td>\n",
       "    </tr>\n",
       "    <tr>\n",
       "      <th>4137</th>\n",
       "      <td>19</td>\n",
       "      <td>0.087451</td>\n",
       "      <td>0.087249</td>\n",
       "    </tr>\n",
       "    <tr>\n",
       "      <th>4138</th>\n",
       "      <td>19</td>\n",
       "      <td>0.087655</td>\n",
       "      <td>0.087394</td>\n",
       "    </tr>\n",
       "    <tr>\n",
       "      <th>4139</th>\n",
       "      <td>19</td>\n",
       "      <td>0.087255</td>\n",
       "      <td>0.087454</td>\n",
       "    </tr>\n",
       "  </tbody>\n",
       "</table>\n",
       "<p>4140 rows × 3 columns</p>\n",
       "</div>"
      ],
      "text/plain": [
       "      Epoch      Loss  Moving Average Loss\n",
       "0         0  2.108417             2.108417\n",
       "1         0  2.090070             2.099244\n",
       "2         0  2.098248             2.098912\n",
       "3         0  2.098414             2.095577\n",
       "4         0  2.095178             2.097280\n",
       "...     ...       ...                  ...\n",
       "4135     19  0.087220             0.087187\n",
       "4136     19  0.087077             0.087160\n",
       "4137     19  0.087451             0.087249\n",
       "4138     19  0.087655             0.087394\n",
       "4139     19  0.087255             0.087454\n",
       "\n",
       "[4140 rows x 3 columns]"
      ]
     },
     "execution_count": 22,
     "metadata": {},
     "output_type": "execute_result"
    }
   ],
   "source": [
    "tracking_loss_df"
   ]
  },
  {
   "cell_type": "markdown",
   "id": "d250ec30",
   "metadata": {
    "id": "d250ec30"
   },
   "source": [
    "Now let's plot the loss by epoch and batch. The x-axis here is a tuple of (epoch, batch)."
   ]
  },
  {
   "cell_type": "markdown",
   "id": "d87cf09e",
   "metadata": {
    "id": "d87cf09e"
   },
   "source": [
    "# Save the model\n",
    "We have the model loaded in memory already, so we don't really need to save the model, but it's often useful to do this so we can use it again later.\n",
    "\n",
    "Here's how:"
   ]
  },
  {
   "cell_type": "code",
   "execution_count": 34,
   "id": "bb03cffa",
   "metadata": {
    "id": "bb03cffa",
    "tags": []
   },
   "outputs": [],
   "source": [
    "torch.save(model, \"DenseNetmodel.pth\")"
   ]
  },
  {
   "cell_type": "markdown",
   "id": "934176f4",
   "metadata": {
    "id": "934176f4"
   },
   "source": [
    "# Evaluation\n",
    "So far, not so bad. We've shown an improvement in the loss on the training set, but that tells us little about how our model will do on new data. Let's reload our saved model and try generating some predictions on the evaluation split we created earlier."
   ]
  },
  {
   "cell_type": "code",
   "execution_count": 35,
   "id": "548f92c7",
   "metadata": {
    "id": "548f92c7",
    "tags": []
   },
   "outputs": [],
   "source": [
    "loaded_model = torch.load(\"DenseNetmodel.pth\")"
   ]
  },
  {
   "cell_type": "code",
   "execution_count": 36,
   "id": "WwrCUSlo4EmU",
   "metadata": {
    "id": "WwrCUSlo4EmU",
    "tags": []
   },
   "outputs": [],
   "source": [
    "from torch.utils.data import DataLoader\n",
    "\n",
    "eval_dataset = ImagesDataset(x_val, y_val)\n",
    "eval_dataloader = DataLoader(eval_dataset, batch_size=64, num_workers = 10 )"
   ]
  },
  {
   "cell_type": "markdown",
   "id": "1645e571",
   "metadata": {
    "id": "1645e571"
   },
   "source": [
    "# Make Predictions\n",
    "We'll iterate through the eval dataloader in batches, just like we did for training, but this time we aren't going to need to compute gradients or update weights. For each batch, we'll do the following:\n",
    "\n",
    "1. Run the forward pass to get the model output or logits\n",
    "2. Apply a softmax function to convert the logits into probability space with range[0,1]. During training, the softmax operation was handled internally by nn.CrossEntropyLoss. We aren't computing the loss now because we are just doing evaluation, but we still want the predictions to be in the range[0,1].\n",
    "3. Store the results in a dataframe for further analysis"
   ]
  },
  {
   "cell_type": "code",
   "execution_count": 37,
   "id": "54b0f410",
   "metadata": {
    "colab": {
     "base_uri": "https://localhost:8080/",
     "height": 473
    },
    "executionInfo": {
     "elapsed": 2512,
     "status": "error",
     "timestamp": 1714060437877,
     "user": {
      "displayName": "Sudeepa Parappa",
      "userId": "12968803475610236302"
     },
     "user_tz": -330
    },
    "id": "54b0f410",
    "outputId": "70f4ba33-7c58-4aac-f6bc-d4d4868871c6",
    "tags": []
   },
   "outputs": [
    {
     "name": "stderr",
     "output_type": "stream",
     "text": [
      "Epoch 1/20: 100%|██████████| 52/52 [00:13<00:00,  3.78batch/s, Batch Loss=0.354]"
     ]
    },
    {
     "name": "stdout",
     "output_type": "stream",
     "text": [
      "Epoch 1: Average Validation Loss: 0.4608170473231719\n"
     ]
    },
    {
     "name": "stderr",
     "output_type": "stream",
     "text": [
      "\n",
      "Epoch 2/20: 100%|██████████| 52/52 [00:13<00:00,  3.84batch/s, Batch Loss=0.384]"
     ]
    },
    {
     "name": "stdout",
     "output_type": "stream",
     "text": [
      "Epoch 2: Average Validation Loss: 0.4501443976679674\n"
     ]
    },
    {
     "name": "stderr",
     "output_type": "stream",
     "text": [
      "\n",
      "Epoch 3/20: 100%|██████████| 52/52 [00:13<00:00,  3.75batch/s, Batch Loss=0.512]"
     ]
    },
    {
     "name": "stdout",
     "output_type": "stream",
     "text": [
      "Epoch 3: Average Validation Loss: 0.4517723940885984\n"
     ]
    },
    {
     "name": "stderr",
     "output_type": "stream",
     "text": [
      "\n",
      "Epoch 4/20: 100%|██████████| 52/52 [00:13<00:00,  3.83batch/s, Batch Loss=0.439]"
     ]
    },
    {
     "name": "stdout",
     "output_type": "stream",
     "text": [
      "Epoch 4: Average Validation Loss: 0.44225056297503984\n"
     ]
    },
    {
     "name": "stderr",
     "output_type": "stream",
     "text": [
      "\n",
      "Epoch 5/20: 100%|██████████| 52/52 [00:13<00:00,  3.81batch/s, Batch Loss=0.48] "
     ]
    },
    {
     "name": "stdout",
     "output_type": "stream",
     "text": [
      "Epoch 5: Average Validation Loss: 0.45115250836198145\n"
     ]
    },
    {
     "name": "stderr",
     "output_type": "stream",
     "text": [
      "\n",
      "Epoch 6/20: 100%|██████████| 52/52 [00:13<00:00,  3.78batch/s, Batch Loss=0.337]"
     ]
    },
    {
     "name": "stdout",
     "output_type": "stream",
     "text": [
      "Epoch 6: Average Validation Loss: 0.4570450605108188\n"
     ]
    },
    {
     "name": "stderr",
     "output_type": "stream",
     "text": [
      "\n",
      "Epoch 7/20: 100%|██████████| 52/52 [00:13<00:00,  3.82batch/s, Batch Loss=0.416]"
     ]
    },
    {
     "name": "stdout",
     "output_type": "stream",
     "text": [
      "Epoch 7: Average Validation Loss: 0.4636015079628963\n"
     ]
    },
    {
     "name": "stderr",
     "output_type": "stream",
     "text": [
      "\n",
      "Epoch 8/20: 100%|██████████| 52/52 [00:13<00:00,  3.83batch/s, Batch Loss=0.468] "
     ]
    },
    {
     "name": "stdout",
     "output_type": "stream",
     "text": [
      "Epoch 8: Average Validation Loss: 0.427128798686541\n"
     ]
    },
    {
     "name": "stderr",
     "output_type": "stream",
     "text": [
      "\n",
      "Epoch 9/20: 100%|██████████| 52/52 [00:13<00:00,  3.83batch/s, Batch Loss=0.361]"
     ]
    },
    {
     "name": "stdout",
     "output_type": "stream",
     "text": [
      "Epoch 9: Average Validation Loss: 0.4369189426876031\n"
     ]
    },
    {
     "name": "stderr",
     "output_type": "stream",
     "text": [
      "\n",
      "Epoch 10/20: 100%|██████████| 52/52 [00:13<00:00,  3.82batch/s, Batch Loss=0.281]"
     ]
    },
    {
     "name": "stdout",
     "output_type": "stream",
     "text": [
      "Epoch 10: Average Validation Loss: 0.4355501440855173\n"
     ]
    },
    {
     "name": "stderr",
     "output_type": "stream",
     "text": [
      "\n",
      "Epoch 11/20: 100%|██████████| 52/52 [00:13<00:00,  3.85batch/s, Batch Loss=0.566] "
     ]
    },
    {
     "name": "stdout",
     "output_type": "stream",
     "text": [
      "Epoch 11: Average Validation Loss: 0.4428995968773961\n"
     ]
    },
    {
     "name": "stderr",
     "output_type": "stream",
     "text": [
      "\n",
      "Epoch 12/20: 100%|██████████| 52/52 [00:13<00:00,  3.78batch/s, Batch Loss=0.483]"
     ]
    },
    {
     "name": "stdout",
     "output_type": "stream",
     "text": [
      "Epoch 12: Average Validation Loss: 0.44617815802876765\n"
     ]
    },
    {
     "name": "stderr",
     "output_type": "stream",
     "text": [
      "\n",
      "Epoch 13/20: 100%|██████████| 52/52 [00:13<00:00,  3.79batch/s, Batch Loss=0.372]"
     ]
    },
    {
     "name": "stdout",
     "output_type": "stream",
     "text": [
      "Epoch 13: Average Validation Loss: 0.45484285715680856\n"
     ]
    },
    {
     "name": "stderr",
     "output_type": "stream",
     "text": [
      "\n",
      "Epoch 14/20: 100%|██████████| 52/52 [00:13<00:00,  3.79batch/s, Batch Loss=0.335]"
     ]
    },
    {
     "name": "stdout",
     "output_type": "stream",
     "text": [
      "Epoch 14: Average Validation Loss: 0.4342238304133599\n"
     ]
    },
    {
     "name": "stderr",
     "output_type": "stream",
     "text": [
      "\n",
      "Epoch 15/20: 100%|██████████| 52/52 [00:13<00:00,  3.79batch/s, Batch Loss=0.509] "
     ]
    },
    {
     "name": "stdout",
     "output_type": "stream",
     "text": [
      "Epoch 15: Average Validation Loss: 0.44717842440765637\n"
     ]
    },
    {
     "name": "stderr",
     "output_type": "stream",
     "text": [
      "\n",
      "Epoch 16/20: 100%|██████████| 52/52 [00:13<00:00,  3.83batch/s, Batch Loss=0.358]"
     ]
    },
    {
     "name": "stdout",
     "output_type": "stream",
     "text": [
      "Epoch 16: Average Validation Loss: 0.43950134343825853\n"
     ]
    },
    {
     "name": "stderr",
     "output_type": "stream",
     "text": [
      "\n",
      "Epoch 17/20: 100%|██████████| 52/52 [00:13<00:00,  3.77batch/s, Batch Loss=0.391]"
     ]
    },
    {
     "name": "stdout",
     "output_type": "stream",
     "text": [
      "Epoch 17: Average Validation Loss: 0.44005324892126596\n"
     ]
    },
    {
     "name": "stderr",
     "output_type": "stream",
     "text": [
      "\n",
      "Epoch 18/20: 100%|██████████| 52/52 [00:13<00:00,  3.83batch/s, Batch Loss=0.422]"
     ]
    },
    {
     "name": "stdout",
     "output_type": "stream",
     "text": [
      "Epoch 18: Average Validation Loss: 0.4613425051077054\n"
     ]
    },
    {
     "name": "stderr",
     "output_type": "stream",
     "text": [
      "\n",
      "Epoch 19/20: 100%|██████████| 52/52 [00:13<00:00,  3.78batch/s, Batch Loss=0.476]"
     ]
    },
    {
     "name": "stdout",
     "output_type": "stream",
     "text": [
      "Epoch 19: Average Validation Loss: 0.44317079808276433\n"
     ]
    },
    {
     "name": "stderr",
     "output_type": "stream",
     "text": [
      "\n",
      "Epoch 20/20: 100%|██████████| 52/52 [00:13<00:00,  3.87batch/s, Batch Loss=0.389]"
     ]
    },
    {
     "name": "stdout",
     "output_type": "stream",
     "text": [
      "Epoch 20: Average Validation Loss: 0.44477193917219454\n"
     ]
    },
    {
     "name": "stderr",
     "output_type": "stream",
     "text": [
      "\n"
     ]
    }
   ],
   "source": [
    "import torch\n",
    "import torch.nn as nn\n",
    "import pandas as pd\n",
    "import matplotlib.pyplot as plt\n",
    "from tqdm import tqdm\n",
    "\n",
    "# List to store average validation losses for each epoch\n",
    "epoch_losses = []\n",
    "num_epochs = 20\n",
    "\n",
    "# Loop over epochs and perform validation\n",
    "for epoch in range(num_epochs):\n",
    "    model.eval()  # Set the model to evaluation mode\n",
    "\n",
    "    losses = []  # List to store loss values\n",
    "    preds_collector = []  # List to collect predictions\n",
    "\n",
    "    # Create a tqdm progress bar\n",
    "    progress_bar = tqdm(enumerate(eval_dataloader), total=len(eval_dataloader), desc=f'Epoch {epoch + 1}/{num_epochs}', unit='batch')\n",
    "    \n",
    "    # Disable gradient calculation during validation\n",
    "    with torch.no_grad():\n",
    "        for i, batch in progress_bar:\n",
    "            # Move batch to device\n",
    "            batch = {key: value.to(device) for key, value in batch.items()}\n",
    "\n",
    "            # Forward pass: compute logits\n",
    "            logits = model(batch[\"image\"])\n",
    "\n",
    "            # Compute the loss\n",
    "            loss = criterion(logits, batch[\"label\"])\n",
    "            losses.append(loss.item())  # Append loss value to list\n",
    "\n",
    "            # Apply softmax to get probabilities\n",
    "            preds = nn.functional.softmax(logits, dim=1)\n",
    "\n",
    "            # Store predictions in a DataFrame\n",
    "            preds_df = pd.DataFrame(\n",
    "                preds.cpu().detach().numpy(),\n",
    "                index=batch[\"image_id\"].cpu().numpy(),\n",
    "                columns=species_labels,\n",
    "            )\n",
    "            preds_collector.append(preds_df)\n",
    "\n",
    "            # Update progress bar description with batch loss\n",
    "            progress_bar.set_postfix({'Batch Loss': loss.item()}, refresh=True)\n",
    "\n",
    "    # Calculate average validation loss for the epoch\n",
    "    avg_val_loss = sum(losses) / len(losses)\n",
    "    epoch_losses.append(avg_val_loss)  # Append average validation loss to epoch_losses list\n",
    "    print(f'Epoch {epoch+1}: Average Validation Loss: {avg_val_loss}')\n",
    "\n",
    "    # Concatenate predictions from all batches\n",
    "    eval_preds_df_D = pd.concat(preds_collector)"
   ]
  },
  {
   "cell_type": "code",
   "execution_count": 38,
   "id": "1bf418f4-1492-4b26-be94-59e0b239f991",
   "metadata": {
    "tags": []
   },
   "outputs": [
    {
     "data": {
      "image/png": "[encoded data removed]",
      "text/plain": [
       "<Figure size 1000x500 with 1 Axes>"
      ]
     },
     "metadata": {},
     "output_type": "display_data"
    }
   ],
   "source": [
    "import matplotlib.pyplot as plt\n",
    "import pandas as pd\n",
    "\n",
    "# Plotting validation loss over each epoch\n",
    "plt.figure(figsize=(10, 5))\n",
    "plt.plot(range(1, num_epochs + 1), epoch_losses, marker='o', linestyle='-')\n",
    "plt.title('Validation Loss Over Epochs')\n",
    "plt.xlabel('Epoch')\n",
    "plt.ylabel('Validation Loss')\n",
    "plt.grid(True)\n",
    "plt.xticks(range(1, num_epochs + 1))  # Set x-axis ticks to show each epoch\n",
    "plt.show()"
   ]
  },
  {
   "cell_type": "code",
   "execution_count": 39,
   "id": "GQUvKi1lLBUr",
   "metadata": {
    "colab": {
     "base_uri": "https://localhost:8080/",
     "height": 617
    },
    "executionInfo": {
     "elapsed": 4,
     "status": "ok",
     "timestamp": 1714060077494,
     "user": {
      "displayName": "Sudeepa Parappa",
      "userId": "12968803475610236302"
     },
     "user_tz": -330
    },
    "id": "GQUvKi1lLBUr",
    "outputId": "28f94290-2d6c-4037-8a64-c0a5b7ee3e0b",
    "tags": []
   },
   "outputs": [
    {
     "data": {
      "text/html": [
       "<div>\n",
       "<style scoped>\n",
       "    .dataframe tbody tr th:only-of-type {\n",
       "        vertical-align: middle;\n",
       "    }\n",
       "\n",
       "    .dataframe tbody tr th {\n",
       "        vertical-align: top;\n",
       "    }\n",
       "\n",
       "    .dataframe thead th {\n",
       "        text-align: right;\n",
       "    }\n",
       "</style>\n",
       "<table border=\"1\" class=\"dataframe\">\n",
       "  <thead>\n",
       "    <tr style=\"text-align: right;\">\n",
       "      <th></th>\n",
       "      <th>antelope_duiker</th>\n",
       "      <th>bird</th>\n",
       "      <th>blank</th>\n",
       "      <th>civet_genet</th>\n",
       "      <th>hog</th>\n",
       "      <th>leopard</th>\n",
       "      <th>monkey_prosimian</th>\n",
       "      <th>rodent</th>\n",
       "    </tr>\n",
       "  </thead>\n",
       "  <tbody>\n",
       "    <tr>\n",
       "      <th>3751</th>\n",
       "      <td>8.027658e-04</td>\n",
       "      <td>0.000105</td>\n",
       "      <td>0.119740</td>\n",
       "      <td>3.706550e-02</td>\n",
       "      <td>5.725158e-05</td>\n",
       "      <td>0.000029</td>\n",
       "      <td>0.000019</td>\n",
       "      <td>8.421813e-01</td>\n",
       "    </tr>\n",
       "    <tr>\n",
       "      <th>680</th>\n",
       "      <td>2.855555e-06</td>\n",
       "      <td>0.000006</td>\n",
       "      <td>0.000021</td>\n",
       "      <td>8.996275e-05</td>\n",
       "      <td>2.058462e-05</td>\n",
       "      <td>0.999857</td>\n",
       "      <td>0.000003</td>\n",
       "      <td>8.236897e-08</td>\n",
       "    </tr>\n",
       "    <tr>\n",
       "      <th>3647</th>\n",
       "      <td>1.454220e-02</td>\n",
       "      <td>0.012908</td>\n",
       "      <td>0.071472</td>\n",
       "      <td>7.316450e-05</td>\n",
       "      <td>2.810043e-05</td>\n",
       "      <td>0.000005</td>\n",
       "      <td>0.488701</td>\n",
       "      <td>4.122708e-01</td>\n",
       "    </tr>\n",
       "    <tr>\n",
       "      <th>12173</th>\n",
       "      <td>3.422134e-04</td>\n",
       "      <td>0.000313</td>\n",
       "      <td>0.000793</td>\n",
       "      <td>6.811293e-06</td>\n",
       "      <td>5.026063e-05</td>\n",
       "      <td>0.000086</td>\n",
       "      <td>0.998336</td>\n",
       "      <td>7.187634e-05</td>\n",
       "    </tr>\n",
       "    <tr>\n",
       "      <th>12077</th>\n",
       "      <td>1.899249e-07</td>\n",
       "      <td>0.999893</td>\n",
       "      <td>0.000018</td>\n",
       "      <td>3.799952e-07</td>\n",
       "      <td>1.312379e-09</td>\n",
       "      <td>0.000080</td>\n",
       "      <td>0.000009</td>\n",
       "      <td>3.654563e-07</td>\n",
       "    </tr>\n",
       "    <tr>\n",
       "      <th>...</th>\n",
       "      <td>...</td>\n",
       "      <td>...</td>\n",
       "      <td>...</td>\n",
       "      <td>...</td>\n",
       "      <td>...</td>\n",
       "      <td>...</td>\n",
       "      <td>...</td>\n",
       "      <td>...</td>\n",
       "    </tr>\n",
       "    <tr>\n",
       "      <th>10935</th>\n",
       "      <td>3.858591e-05</td>\n",
       "      <td>0.999703</td>\n",
       "      <td>0.000118</td>\n",
       "      <td>3.547731e-05</td>\n",
       "      <td>2.931480e-07</td>\n",
       "      <td>0.000040</td>\n",
       "      <td>0.000055</td>\n",
       "      <td>8.524750e-06</td>\n",
       "    </tr>\n",
       "    <tr>\n",
       "      <th>3952</th>\n",
       "      <td>1.915417e-04</td>\n",
       "      <td>0.993007</td>\n",
       "      <td>0.006672</td>\n",
       "      <td>1.340038e-06</td>\n",
       "      <td>4.626773e-08</td>\n",
       "      <td>0.000001</td>\n",
       "      <td>0.000040</td>\n",
       "      <td>8.770789e-05</td>\n",
       "    </tr>\n",
       "    <tr>\n",
       "      <th>3379</th>\n",
       "      <td>2.130724e-06</td>\n",
       "      <td>0.000025</td>\n",
       "      <td>0.000056</td>\n",
       "      <td>3.819362e-05</td>\n",
       "      <td>2.456710e-05</td>\n",
       "      <td>0.999851</td>\n",
       "      <td>0.000002</td>\n",
       "      <td>4.329972e-07</td>\n",
       "    </tr>\n",
       "    <tr>\n",
       "      <th>5573</th>\n",
       "      <td>9.967809e-01</td>\n",
       "      <td>0.000697</td>\n",
       "      <td>0.000750</td>\n",
       "      <td>1.280184e-04</td>\n",
       "      <td>8.892632e-05</td>\n",
       "      <td>0.000011</td>\n",
       "      <td>0.000989</td>\n",
       "      <td>5.556067e-04</td>\n",
       "    </tr>\n",
       "    <tr>\n",
       "      <th>15043</th>\n",
       "      <td>8.328761e-07</td>\n",
       "      <td>0.000008</td>\n",
       "      <td>0.000023</td>\n",
       "      <td>2.320819e-05</td>\n",
       "      <td>2.811401e-05</td>\n",
       "      <td>0.999915</td>\n",
       "      <td>0.000001</td>\n",
       "      <td>5.175977e-08</td>\n",
       "    </tr>\n",
       "  </tbody>\n",
       "</table>\n",
       "<p>3298 rows × 8 columns</p>\n",
       "</div>"
      ],
      "text/plain": [
       "       antelope_duiker      bird     blank   civet_genet           hog  \\\n",
       "3751      8.027658e-04  0.000105  0.119740  3.706550e-02  5.725158e-05   \n",
       "680       2.855555e-06  0.000006  0.000021  8.996275e-05  2.058462e-05   \n",
       "3647      1.454220e-02  0.012908  0.071472  7.316450e-05  2.810043e-05   \n",
       "12173     3.422134e-04  0.000313  0.000793  6.811293e-06  5.026063e-05   \n",
       "12077     1.899249e-07  0.999893  0.000018  3.799952e-07  1.312379e-09   \n",
       "...                ...       ...       ...           ...           ...   \n",
       "10935     3.858591e-05  0.999703  0.000118  3.547731e-05  2.931480e-07   \n",
       "3952      1.915417e-04  0.993007  0.006672  1.340038e-06  4.626773e-08   \n",
       "3379      2.130724e-06  0.000025  0.000056  3.819362e-05  2.456710e-05   \n",
       "5573      9.967809e-01  0.000697  0.000750  1.280184e-04  8.892632e-05   \n",
       "15043     8.328761e-07  0.000008  0.000023  2.320819e-05  2.811401e-05   \n",
       "\n",
       "        leopard  monkey_prosimian        rodent  \n",
       "3751   0.000029          0.000019  8.421813e-01  \n",
       "680    0.999857          0.000003  8.236897e-08  \n",
       "3647   0.000005          0.488701  4.122708e-01  \n",
       "12173  0.000086          0.998336  7.187634e-05  \n",
       "12077  0.000080          0.000009  3.654563e-07  \n",
       "...         ...               ...           ...  \n",
       "10935  0.000040          0.000055  8.524750e-06  \n",
       "3952   0.000001          0.000040  8.770789e-05  \n",
       "3379   0.999851          0.000002  4.329972e-07  \n",
       "5573   0.000011          0.000989  5.556067e-04  \n",
       "15043  0.999915          0.000001  5.175977e-08  \n",
       "\n",
       "[3298 rows x 8 columns]"
      ]
     },
     "execution_count": 39,
     "metadata": {},
     "output_type": "execute_result"
    }
   ],
   "source": [
    "eval_preds_df_D"
   ]
  },
  {
   "cell_type": "code",
   "execution_count": 40,
   "id": "45dba84c-4b84-4d39-9854-d69d0ae36525",
   "metadata": {
    "tags": []
   },
   "outputs": [],
   "source": [
    "import pandas as pd\n",
    "\n",
    "# Assuming 'eval_preds_df' is your DataFrame\n",
    "eval_preds_df_D.to_csv('eval_preds_Densenet-121.csv', index=False)"
   ]
  },
  {
   "cell_type": "code",
   "execution_count": 41,
   "id": "e3231eeb",
   "metadata": {
    "colab": {
     "base_uri": "https://localhost:8080/"
    },
    "executionInfo": {
     "elapsed": 722,
     "status": "ok",
     "timestamp": 1714060078773,
     "user": {
      "displayName": "Sudeepa Parappa",
      "userId": "12968803475610236302"
     },
     "user_tz": -330
    },
    "id": "e3231eeb",
    "outputId": "0d47d3bb-f2b2-4728-85e2-08694451404b",
    "tags": []
   },
   "outputs": [
    {
     "name": "stdout",
     "output_type": "stream",
     "text": [
      "True labels (training):\n"
     ]
    },
    {
     "data": {
      "text/plain": [
       "monkey_prosimian    1994\n",
       "antelope_duiker     1979\n",
       "civet_genet         1938\n",
       "leopard             1803\n",
       "blank               1770\n",
       "rodent              1610\n",
       "bird                1313\n",
       "hog                  783\n",
       "Name: count, dtype: int64"
      ]
     },
     "execution_count": 41,
     "metadata": {},
     "output_type": "execute_result"
    }
   ],
   "source": [
    "print(\"True labels (training):\")\n",
    "y_train.idxmax(axis=1).value_counts()"
   ]
  },
  {
   "cell_type": "code",
   "execution_count": 42,
   "id": "d7f55a26",
   "metadata": {
    "colab": {
     "base_uri": "https://localhost:8080/"
    },
    "executionInfo": {
     "elapsed": 2,
     "status": "ok",
     "timestamp": 1714060081114,
     "user": {
      "displayName": "Sudeepa Parappa",
      "userId": "12968803475610236302"
     },
     "user_tz": -330
    },
    "id": "d7f55a26",
    "outputId": "ba8a2eea-24ef-4cee-e896-7496c7dfa26b",
    "tags": []
   },
   "outputs": [
    {
     "name": "stdout",
     "output_type": "stream",
     "text": [
      "Predicted labels (eval):\n"
     ]
    },
    {
     "data": {
      "text/plain": [
       "blank               1029\n",
       "leopard              747\n",
       "civet_genet          384\n",
       "monkey_prosimian     344\n",
       "antelope_duiker      328\n",
       "rodent               189\n",
       "bird                 163\n",
       "hog                  114\n",
       "Name: count, dtype: int64"
      ]
     },
     "execution_count": 42,
     "metadata": {},
     "output_type": "execute_result"
    }
   ],
   "source": [
    "print(\"Predicted labels (eval):\")\n",
    "eval_preds_df.idxmax(axis=1).value_counts()"
   ]
  },
  {
   "cell_type": "code",
   "execution_count": 43,
   "id": "16ba4122",
   "metadata": {
    "colab": {
     "base_uri": "https://localhost:8080/"
    },
    "executionInfo": {
     "elapsed": 421,
     "status": "ok",
     "timestamp": 1714060084225,
     "user": {
      "displayName": "Sudeepa Parappa",
      "userId": "12968803475610236302"
     },
     "user_tz": -330
    },
    "id": "16ba4122",
    "outputId": "5614e0a3-63ed-4608-89e8-83722c9af768",
    "tags": []
   },
   "outputs": [
    {
     "name": "stdout",
     "output_type": "stream",
     "text": [
      "True labels (eval):\n"
     ]
    },
    {
     "data": {
      "text/plain": [
       "monkey_prosimian    498\n",
       "antelope_duiker     495\n",
       "civet_genet         485\n",
       "leopard             451\n",
       "blank               443\n",
       "rodent              403\n",
       "bird                328\n",
       "hog                 195\n",
       "Name: count, dtype: int64"
      ]
     },
     "execution_count": 43,
     "metadata": {},
     "output_type": "execute_result"
    }
   ],
   "source": [
    "print(\"True labels (eval):\")\n",
    "y_val.idxmax(axis=1).value_counts()"
   ]
  },
  {
   "cell_type": "markdown",
   "id": "c7ZGTxwfW3hp",
   "metadata": {
    "id": "c7ZGTxwfW3hp"
   },
   "source": [
    "## Comparison of Epoch Losses on Training,Validation and Testing Datasets"
   ]
  },
  {
   "cell_type": "code",
   "execution_count": 44,
   "id": "IZJDhnEa1T50",
   "metadata": {
    "colab": {
     "base_uri": "https://localhost:8080/",
     "height": 383
    },
    "executionInfo": {
     "elapsed": 1541,
     "status": "ok",
     "timestamp": 1714060088093,
     "user": {
      "displayName": "Sudeepa Parappa",
      "userId": "12968803475610236302"
     },
     "user_tz": -330
    },
    "id": "IZJDhnEa1T50",
    "outputId": "c649370a-27ef-4a57-82b4-d79aebe62b34",
    "tags": []
   },
   "outputs": [
    {
     "data": {
      "image/png": "[encoded data removed]",
      "text/plain": [
       "<Figure size 1200x600 with 1 Axes>"
      ]
     },
     "metadata": {},
     "output_type": "display_data"
    }
   ],
   "source": [
    "import matplotlib.pyplot as plt\n",
    "import pandas as pd\n",
    "\n",
    "# Calculate moving average of training loss over each epoch\n",
    "window_size = 3\n",
    "tracking_loss_df['Moving Average Loss'] = tracking_loss_df['Loss'].rolling(window=window_size, min_periods=1).mean()\n",
    "\n",
    "# Plotting the comparison plot\n",
    "plt.figure(figsize=(12, 6))\n",
    "\n",
    "# Plot training loss\n",
    "plt.plot(tracking_loss_df['Epoch'], tracking_loss_df['Loss'], label='Training Loss', marker='o', color='blue')\n",
    "\n",
    "# Plot moving average training loss\n",
    "plt.plot(tracking_loss_df['Epoch'], tracking_loss_df['Moving Average Loss'], label='Moving Average Training Loss', linestyle='--', color='orange')\n",
    "\n",
    "# Highlight the last few points for clarity\n",
    "plt.scatter(tracking_loss_df['Epoch'][-window_size:], tracking_loss_df['Moving Average Loss'][-window_size:], color='red', zorder=5)\n",
    "\n",
    "# Plot validation loss\n",
    "plt.plot(range(1, num_epochs + 1), epoch_losses, marker='o', linestyle='-', label='Validation Loss', color='green')\n",
    "\n",
    "# Adding labels, title, legend, and grid\n",
    "plt.xlabel('Epoch')\n",
    "plt.ylabel('Loss')\n",
    "plt.title('Training and Validation Loss Over Epochs')\n",
    "plt.legend()\n",
    "plt.grid(True)\n",
    "\n",
    "# Show plot\n",
    "plt.tight_layout()\n",
    "plt.show()"
   ]
  },
  {
   "cell_type": "code",
   "execution_count": 45,
   "id": "cffdf06b-4148-4a2a-a28b-c165047a2d3f",
   "metadata": {
    "tags": []
   },
   "outputs": [
    {
     "name": "stdout",
     "output_type": "stream",
     "text": [
      "Log Loss for DenseNet_121: 0.44392337788483693\n"
     ]
    },
    {
     "name": "stderr",
     "output_type": "stream",
     "text": [
      "/home/studio-lab-user/.conda/envs/default/lib/python3.9/site-packages/sklearn/metrics/_classification.py:2981: UserWarning: The y_pred values do not sum to one. Starting from 1.5 thiswill result in an error.\n",
      "  warnings.warn(\n"
     ]
    }
   ],
   "source": [
    "from sklearn.metrics import log_loss\n",
    "\n",
    "# True labels for ResNet-50\n",
    "true_labels_resnet = y_val.values  # Assuming train_labels contains true labels\n",
    "\n",
    "# Predicted probabilities for ResNet-50\n",
    "predicted_probs_resnet = eval_preds_df_D.values  # Assuming eval_preds_df contains predicted probabilities\n",
    "\n",
    "# Compute log loss for ResNet-50\n",
    "log_loss_Densenet = log_loss(true_labels_resnet, predicted_probs_resnet)\n",
    "print(\"Log Loss for DenseNet_121:\", log_loss_Densenet)"
   ]
  },
  {
   "cell_type": "markdown",
   "id": "J8IPf1IPUfFI",
   "metadata": {
    "id": "J8IPf1IPUfFI"
   },
   "source": [
    "# Accuracy"
   ]
  },
  {
   "cell_type": "markdown",
   "id": "aHhPattdUi8h",
   "metadata": {
    "id": "aHhPattdUi8h"
   },
   "source": [
    "Now let's compute how accurate our model is and compare that against some trivial baseline models. First let's get the labels with the highest score for each image."
   ]
  },
  {
   "cell_type": "code",
   "execution_count": 46,
   "id": "TGCrEmnCUhqK",
   "metadata": {
    "colab": {
     "base_uri": "https://localhost:8080/"
    },
    "executionInfo": {
     "elapsed": 704,
     "status": "ok",
     "timestamp": 1714060100664,
     "user": {
      "displayName": "Sudeepa Parappa",
      "userId": "12968803475610236302"
     },
     "user_tz": -330
    },
    "id": "TGCrEmnCUhqK",
    "outputId": "b07f1fdf-8e47-49ba-95c3-077c02cef3e1",
    "tags": []
   },
   "outputs": [
    {
     "data": {
      "text/plain": [
       "3751                blank\n",
       "680               leopard\n",
       "3647               rodent\n",
       "12173    monkey_prosimian\n",
       "12077                bird\n",
       "dtype: object"
      ]
     },
     "execution_count": 46,
     "metadata": {},
     "output_type": "execute_result"
    }
   ],
   "source": [
    "eval_predictions = eval_preds_df.idxmax(axis=1)\n",
    "eval_predictions.head()"
   ]
  },
  {
   "cell_type": "code",
   "execution_count": 47,
   "id": "8hOVHw9WUngD",
   "metadata": {
    "colab": {
     "base_uri": "https://localhost:8080/"
    },
    "executionInfo": {
     "elapsed": 3,
     "status": "ok",
     "timestamp": 1714060103538,
     "user": {
      "displayName": "Sudeepa Parappa",
      "userId": "12968803475610236302"
     },
     "user_tz": -330
    },
    "id": "8hOVHw9WUngD",
    "outputId": "c3a94ef8-cd9d-4abc-a185-aaa71237f5d0",
    "tags": []
   },
   "outputs": [
    {
     "name": "stdout",
     "output_type": "stream",
     "text": [
      "Accuracy - Monkey Prosimian: 0.1510\n",
      "Accuracy - Leopard: 0.1367\n",
      "Accuracy - Hog: 0.0591\n",
      "Accuracy - Bird: 0.0995\n",
      "Accuracy - Antelope Duiker: 0.1501\n",
      "Accuracy - Civet Genet: 0.1471\n",
      "Accuracy - Blank: 0.1343\n"
     ]
    }
   ],
   "source": [
    "eval_true = y_val.idxmax(axis=1)\n",
    "\n",
    "accuracy_monkey_prosimian = (eval_true == \"monkey_prosimian\").sum() / len(eval_predictions)\n",
    "accuracy_leopard = (eval_true == \"leopard\").sum() / len(eval_predictions)\n",
    "accuracy_hog = (eval_true == \"hog\").sum() / len(eval_predictions)\n",
    "accuracy_bird = (eval_true == \"bird\").sum() / len(eval_predictions)\n",
    "accuracy_antelope_duiker = (eval_true == \"antelope_duiker\").sum() / len(eval_predictions)\n",
    "accuracy_civet_genet = (eval_true == \"civet_genet\").sum() / len(eval_predictions)\n",
    "accuracy_blank = (eval_true == \"blank\").sum() / len(eval_predictions)\n",
    "\n",
    "print(f\"Accuracy - Monkey Prosimian: {accuracy_monkey_prosimian:.4f}\")\n",
    "print(f\"Accuracy - Leopard: {accuracy_leopard:.4f}\")\n",
    "print(f\"Accuracy - Hog: {accuracy_hog:.4f}\")\n",
    "print(f\"Accuracy - Bird: {accuracy_bird:.4f}\")\n",
    "print(f\"Accuracy - Antelope Duiker: {accuracy_antelope_duiker:.4f}\")\n",
    "print(f\"Accuracy - Civet Genet: {accuracy_civet_genet:.4f}\")\n",
    "print(f\"Accuracy - Blank: {accuracy_blank:.4f}\")"
   ]
  },
  {
   "cell_type": "code",
   "execution_count": 48,
   "id": "HaV7CVJrYvQC",
   "metadata": {
    "colab": {
     "base_uri": "https://localhost:8080/"
    },
    "executionInfo": {
     "elapsed": 1,
     "status": "ok",
     "timestamp": 1714060105331,
     "user": {
      "displayName": "Sudeepa Parappa",
      "userId": "12968803475610236302"
     },
     "user_tz": -330
    },
    "id": "HaV7CVJrYvQC",
    "outputId": "ec1ed6ef-d124-40d3-b209-d70af440361b",
    "tags": []
   },
   "outputs": [
    {
     "data": {
      "text/plain": [
       "0.5848999393571862"
      ]
     },
     "execution_count": 48,
     "metadata": {},
     "output_type": "execute_result"
    }
   ],
   "source": [
    "eval_predictions = eval_preds_df.idxmax(axis=1)\n",
    "eval_true = y_val.idxmax(axis=1)\n",
    "\n",
    "# Reindex eval_true to match the labels of eval_predictions\n",
    "eval_true = eval_true.reindex(index=eval_predictions.index)\n",
    "\n",
    "correct = (eval_predictions == eval_true).sum()\n",
    "accuracy = correct / len(eval_predictions)\n",
    "accuracy"
   ]
  },
  {
   "cell_type": "code",
   "execution_count": 49,
   "id": "1WWEBJ9yUsgJ",
   "metadata": {
    "colab": {
     "base_uri": "https://localhost:8080/",
     "height": 665
    },
    "executionInfo": {
     "elapsed": 870,
     "status": "ok",
     "timestamp": 1714060108316,
     "user": {
      "displayName": "Sudeepa Parappa",
      "userId": "12968803475610236302"
     },
     "user_tz": -330
    },
    "id": "1WWEBJ9yUsgJ",
    "outputId": "b62a7289-27b2-4de7-d299-bab21161c428",
    "tags": []
   },
   "outputs": [
    {
     "data": {
      "image/png": "[encoded data removed]",
      "text/plain": [
       "<Figure size 1000x1000 with 2 Axes>"
      ]
     },
     "metadata": {},
     "output_type": "display_data"
    }
   ],
   "source": [
    "from sklearn.metrics import ConfusionMatrixDisplay\n",
    "\n",
    "fig, ax = plt.subplots(figsize=(10, 10))\n",
    "cm = ConfusionMatrixDisplay.from_predictions(\n",
    "    y_val.idxmax(axis=1),\n",
    "    eval_preds_df.idxmax(axis=1),\n",
    "    ax=ax,\n",
    "    xticks_rotation=90,\n",
    "    colorbar=True,\n",
    ")"
   ]
  },
  {
   "cell_type": "markdown",
   "id": "CvJL3tkW39y7",
   "metadata": {
    "id": "CvJL3tkW39y7"
   },
   "source": [
    "# Creat Submission"
   ]
  },
  {
   "cell_type": "code",
   "execution_count": 50,
   "id": "uy3oAX_W38xT",
   "metadata": {
    "id": "uy3oAX_W38xT",
    "tags": []
   },
   "outputs": [
    {
     "name": "stderr",
     "output_type": "stream",
     "text": [
      "/home/studio-lab-user/.conda/envs/default/lib/python3.9/site-packages/torch/utils/data/dataloader.py:558: UserWarning: This DataLoader will create 10 worker processes in total. Our suggested max number of worker in current system is 4, which is smaller than what this DataLoader is going to create. Please be aware that excessive worker creation might get DataLoader running slow or even freeze, lower the worker number to avoid potential slowness/freeze if necessary.\n",
      "  warnings.warn(_create_warning_msg(\n"
     ]
    }
   ],
   "source": [
    "test_dataset = CustomDataset(test_features.filepath.to_frame())\n",
    "test_dataloader = DataLoader(test_dataset, batch_size=32, num_workers = 10 )"
   ]
  },
  {
   "cell_type": "code",
   "execution_count": 51,
   "id": "NhQjkZA74Hsf",
   "metadata": {
    "colab": {
     "base_uri": "https://localhost:8080/",
     "height": 671
    },
    "executionInfo": {
     "elapsed": 13823,
     "status": "ok",
     "timestamp": 1714060128241,
     "user": {
      "displayName": "Sudeepa Parappa",
      "userId": "12968803475610236302"
     },
     "user_tz": -330
    },
    "id": "NhQjkZA74Hsf",
    "outputId": "852667e3-ee43-47e4-8a19-9ec90c37cfc0",
    "tags": []
   },
   "outputs": [
    {
     "name": "stderr",
     "output_type": "stream",
     "text": [
      "100%|██████████| 140/140 [00:15<00:00,  8.91it/s]\n"
     ]
    },
    {
     "data": {
      "text/html": [
       "<div>\n",
       "<style scoped>\n",
       "    .dataframe tbody tr th:only-of-type {\n",
       "        vertical-align: middle;\n",
       "    }\n",
       "\n",
       "    .dataframe tbody tr th {\n",
       "        vertical-align: top;\n",
       "    }\n",
       "\n",
       "    .dataframe thead th {\n",
       "        text-align: right;\n",
       "    }\n",
       "</style>\n",
       "<table border=\"1\" class=\"dataframe\">\n",
       "  <thead>\n",
       "    <tr style=\"text-align: right;\">\n",
       "      <th></th>\n",
       "      <th>antelope_duiker</th>\n",
       "      <th>bird</th>\n",
       "      <th>blank</th>\n",
       "      <th>civet_genet</th>\n",
       "      <th>hog</th>\n",
       "      <th>leopard</th>\n",
       "      <th>monkey_prosimian</th>\n",
       "      <th>rodent</th>\n",
       "    </tr>\n",
       "  </thead>\n",
       "  <tbody>\n",
       "    <tr>\n",
       "      <th>ZJ016488</th>\n",
       "      <td>7.124859e-04</td>\n",
       "      <td>0.000746</td>\n",
       "      <td>0.827186</td>\n",
       "      <td>9.328192e-02</td>\n",
       "      <td>0.000010</td>\n",
       "      <td>0.076549</td>\n",
       "      <td>1.203915e-05</td>\n",
       "      <td>1.501563e-03</td>\n",
       "    </tr>\n",
       "    <tr>\n",
       "      <th>ZJ016489</th>\n",
       "      <td>4.489213e-01</td>\n",
       "      <td>0.004271</td>\n",
       "      <td>0.034768</td>\n",
       "      <td>1.852067e-02</td>\n",
       "      <td>0.002497</td>\n",
       "      <td>0.060755</td>\n",
       "      <td>4.299172e-01</td>\n",
       "      <td>3.503644e-04</td>\n",
       "    </tr>\n",
       "    <tr>\n",
       "      <th>ZJ016490</th>\n",
       "      <td>9.026420e-01</td>\n",
       "      <td>0.000945</td>\n",
       "      <td>0.018317</td>\n",
       "      <td>4.829017e-02</td>\n",
       "      <td>0.001203</td>\n",
       "      <td>0.000132</td>\n",
       "      <td>2.639168e-02</td>\n",
       "      <td>2.080268e-03</td>\n",
       "    </tr>\n",
       "    <tr>\n",
       "      <th>ZJ016491</th>\n",
       "      <td>1.125148e-06</td>\n",
       "      <td>0.000004</td>\n",
       "      <td>0.000055</td>\n",
       "      <td>1.035502e-03</td>\n",
       "      <td>0.000010</td>\n",
       "      <td>0.998892</td>\n",
       "      <td>9.322258e-07</td>\n",
       "      <td>8.759455e-07</td>\n",
       "    </tr>\n",
       "    <tr>\n",
       "      <th>ZJ016492</th>\n",
       "      <td>2.533623e-01</td>\n",
       "      <td>0.001384</td>\n",
       "      <td>0.010725</td>\n",
       "      <td>1.670579e-01</td>\n",
       "      <td>0.002716</td>\n",
       "      <td>0.001616</td>\n",
       "      <td>5.582221e-01</td>\n",
       "      <td>4.916638e-03</td>\n",
       "    </tr>\n",
       "    <tr>\n",
       "      <th>...</th>\n",
       "      <td>...</td>\n",
       "      <td>...</td>\n",
       "      <td>...</td>\n",
       "      <td>...</td>\n",
       "      <td>...</td>\n",
       "      <td>...</td>\n",
       "      <td>...</td>\n",
       "      <td>...</td>\n",
       "    </tr>\n",
       "    <tr>\n",
       "      <th>ZJ020947</th>\n",
       "      <td>1.206468e-01</td>\n",
       "      <td>0.207532</td>\n",
       "      <td>0.236613</td>\n",
       "      <td>2.892702e-05</td>\n",
       "      <td>0.000131</td>\n",
       "      <td>0.000080</td>\n",
       "      <td>4.310821e-01</td>\n",
       "      <td>3.886394e-03</td>\n",
       "    </tr>\n",
       "    <tr>\n",
       "      <th>ZJ020948</th>\n",
       "      <td>4.980124e-04</td>\n",
       "      <td>0.000461</td>\n",
       "      <td>0.986219</td>\n",
       "      <td>1.161560e-03</td>\n",
       "      <td>0.000093</td>\n",
       "      <td>0.004085</td>\n",
       "      <td>1.330484e-04</td>\n",
       "      <td>7.349422e-03</td>\n",
       "    </tr>\n",
       "    <tr>\n",
       "      <th>ZJ020949</th>\n",
       "      <td>1.397256e-03</td>\n",
       "      <td>0.000268</td>\n",
       "      <td>0.020455</td>\n",
       "      <td>7.562339e-01</td>\n",
       "      <td>0.000391</td>\n",
       "      <td>0.220825</td>\n",
       "      <td>5.269815e-05</td>\n",
       "      <td>3.782455e-04</td>\n",
       "    </tr>\n",
       "    <tr>\n",
       "      <th>ZJ020950</th>\n",
       "      <td>3.773544e-01</td>\n",
       "      <td>0.002507</td>\n",
       "      <td>0.612548</td>\n",
       "      <td>7.013805e-04</td>\n",
       "      <td>0.000274</td>\n",
       "      <td>0.002950</td>\n",
       "      <td>2.547146e-03</td>\n",
       "      <td>1.118838e-03</td>\n",
       "    </tr>\n",
       "    <tr>\n",
       "      <th>ZJ020951</th>\n",
       "      <td>4.039699e-07</td>\n",
       "      <td>0.000004</td>\n",
       "      <td>0.000012</td>\n",
       "      <td>5.503991e-07</td>\n",
       "      <td>0.000005</td>\n",
       "      <td>0.999978</td>\n",
       "      <td>1.962602e-07</td>\n",
       "      <td>8.074642e-09</td>\n",
       "    </tr>\n",
       "  </tbody>\n",
       "</table>\n",
       "<p>4464 rows × 8 columns</p>\n",
       "</div>"
      ],
      "text/plain": [
       "          antelope_duiker      bird     blank   civet_genet       hog  \\\n",
       "ZJ016488     7.124859e-04  0.000746  0.827186  9.328192e-02  0.000010   \n",
       "ZJ016489     4.489213e-01  0.004271  0.034768  1.852067e-02  0.002497   \n",
       "ZJ016490     9.026420e-01  0.000945  0.018317  4.829017e-02  0.001203   \n",
       "ZJ016491     1.125148e-06  0.000004  0.000055  1.035502e-03  0.000010   \n",
       "ZJ016492     2.533623e-01  0.001384  0.010725  1.670579e-01  0.002716   \n",
       "...                   ...       ...       ...           ...       ...   \n",
       "ZJ020947     1.206468e-01  0.207532  0.236613  2.892702e-05  0.000131   \n",
       "ZJ020948     4.980124e-04  0.000461  0.986219  1.161560e-03  0.000093   \n",
       "ZJ020949     1.397256e-03  0.000268  0.020455  7.562339e-01  0.000391   \n",
       "ZJ020950     3.773544e-01  0.002507  0.612548  7.013805e-04  0.000274   \n",
       "ZJ020951     4.039699e-07  0.000004  0.000012  5.503991e-07  0.000005   \n",
       "\n",
       "           leopard  monkey_prosimian        rodent  \n",
       "ZJ016488  0.076549      1.203915e-05  1.501563e-03  \n",
       "ZJ016489  0.060755      4.299172e-01  3.503644e-04  \n",
       "ZJ016490  0.000132      2.639168e-02  2.080268e-03  \n",
       "ZJ016491  0.998892      9.322258e-07  8.759455e-07  \n",
       "ZJ016492  0.001616      5.582221e-01  4.916638e-03  \n",
       "...            ...               ...           ...  \n",
       "ZJ020947  0.000080      4.310821e-01  3.886394e-03  \n",
       "ZJ020948  0.004085      1.330484e-04  7.349422e-03  \n",
       "ZJ020949  0.220825      5.269815e-05  3.782455e-04  \n",
       "ZJ020950  0.002950      2.547146e-03  1.118838e-03  \n",
       "ZJ020951  0.999978      1.962602e-07  8.074642e-09  \n",
       "\n",
       "[4464 rows x 8 columns]"
      ]
     },
     "execution_count": 51,
     "metadata": {},
     "output_type": "execute_result"
    }
   ],
   "source": [
    "# Put the model in evaluation mode\n",
    "model.eval()\n",
    "\n",
    "# List to collect predictions\n",
    "preds_collector = []\n",
    "\n",
    "# Iterate through the test dataloader\n",
    "with torch.no_grad():\n",
    "    for batch in tqdm(test_dataloader, total=len(test_dataloader)):\n",
    "        # Move batch data to GPU\n",
    "        batch[\"image\"] = batch[\"image\"].to(device)\n",
    "\n",
    "        # Run the forward step\n",
    "        logits = model.forward(batch[\"image\"])\n",
    "\n",
    "        # Apply softmax to get probabilities\n",
    "        preds = nn.functional.softmax(logits, dim=1)\n",
    "\n",
    "        # Store this batch's predictions in a DataFrame\n",
    "        preds_df = pd.DataFrame(\n",
    "            preds.cpu().detach().numpy(),  # Move predictions back to CPU for DataFrame creation\n",
    "            index=batch[\"image_id\"],  # Assuming batch[\"image_id\"] contains image IDs\n",
    "            columns=species_labels,\n",
    "        )\n",
    "        preds_collector.append(preds_df)\n",
    "\n",
    "# Concatenate all predictions into one DataFrame\n",
    "submission_df = pd.concat(preds_collector)\n",
    "\n",
    "# Now you have your submission DataFrame containing predictions\n",
    "submission_df"
   ]
  },
  {
   "cell_type": "markdown",
   "id": "xwtowdlx451g",
   "metadata": {
    "id": "xwtowdlx451g"
   },
   "source": [
    "Let's check a couple things on submission_df before submitting to the platform. We'll want to make sure our submission's index and column labels match the submission format. (The DrivenData platform will do these data integrity checks as well, but it will be quicker to detect problems this way.)"
   ]
  },
  {
   "cell_type": "code",
   "execution_count": 52,
   "id": "cf7e4228-eb9f-422d-a8dd-ab7b1f1a111b",
   "metadata": {
    "tags": []
   },
   "outputs": [
    {
     "name": "stdout",
     "output_type": "stream",
     "text": [
      "         antelope_duiker        bird       blank civet_genet         hog  \\\n",
      "ZJ016488      0.00071249  0.00074634  0.82718617  0.09328192  0.00001026   \n",
      "ZJ016489      0.44892129  0.00427069  0.03476776  0.01852067  0.00249699   \n",
      "ZJ016490      0.90264195  0.00094480  0.01831688  0.04829017  0.00120272   \n",
      "ZJ016491      0.00000113  0.00000402  0.00005538  0.00103550  0.00000985   \n",
      "ZJ016492      0.25336233  0.00138353  0.01072545  0.16705789  0.00271631   \n",
      "...                  ...         ...         ...         ...         ...   \n",
      "ZJ020947      0.12064680  0.20753171  0.23661304  0.00002893  0.00013113   \n",
      "ZJ020948      0.00049801  0.00046083  0.98621851  0.00116156  0.00009343   \n",
      "ZJ020949      0.00139726  0.00026766  0.02045474  0.75623387  0.00039092   \n",
      "ZJ020950      0.37735438  0.00250675  0.61254752  0.00070138  0.00027378   \n",
      "ZJ020951      0.00000040  0.00000394  0.00001178  0.00000055  0.00000468   \n",
      "\n",
      "             leopard monkey_prosimian      rodent  \n",
      "ZJ016488  0.07654926       0.00001204  0.00150156  \n",
      "ZJ016489  0.06075507       0.42991716  0.00035036  \n",
      "ZJ016490  0.00013159       0.02639168  0.00208027  \n",
      "ZJ016491  0.99889237       0.00000093  0.00000088  \n",
      "ZJ016492  0.00161576       0.55822212  0.00491664  \n",
      "...              ...              ...         ...  \n",
      "ZJ020947  0.00007998       0.43108213  0.00388639  \n",
      "ZJ020948  0.00408514       0.00013305  0.00734942  \n",
      "ZJ020949  0.22082452       0.00005270  0.00037825  \n",
      "ZJ020950  0.00295018       0.00254715  0.00111884  \n",
      "ZJ020951  0.99997842       0.00000020  0.00000001  \n",
      "\n",
      "[4464 rows x 8 columns]\n"
     ]
    }
   ],
   "source": [
    "def scientific_to_fixed(number_str, precision=8):\n",
    "    try:\n",
    "        # Convert the number from scientific notation to a float\n",
    "        number = float(number_str)\n",
    "        # Convert the float to a string with fixed formatting\n",
    "        fixed_str = format(number, f'.{precision}f')\n",
    "        return fixed_str\n",
    "    except ValueError:\n",
    "        # If the input is not a valid number, return it unchanged\n",
    "        return number_str\n",
    "\n",
    "# Apply scientific_to_fixed function to each element in submission_df\n",
    "for column in submission_df.columns:\n",
    "    submission_df[column] = submission_df[column].apply(scientific_to_fixed)\n",
    "\n",
    "# Display the DataFrame with fixed-length numbers\n",
    "print(submission_df)"
   ]
  },
  {
   "cell_type": "code",
   "execution_count": null,
   "id": "Z7IYA1U_47n4",
   "metadata": {
    "id": "Z7IYA1U_47n4",
    "tags": []
   },
   "outputs": [],
   "source": [
    "submission_format = pd.read_csv(\"submission_format.csv\", index_col=\"id\")\n",
    "\n",
    "assert all(submission_df.index == submission_format.index)\n",
    "assert all(submission_df.columns == submission_format.columns)"
   ]
  },
  {
   "cell_type": "code",
   "execution_count": null,
   "id": "6k_mszRq5BbO",
   "metadata": {
    "id": "6k_mszRq5BbO"
   },
   "outputs": [],
   "source": [
    "submission_df.to_csv(\"submission_df_densenet121.csv\")"
   ]
  },
  {
   "cell_type": "code",
   "execution_count": null,
   "id": "2601e08a-c00b-4984-b0a3-c71e671fa635",
   "metadata": {},
   "outputs": [],
   "source": []
  }
 ],
 "metadata": {
  "accelerator": "TPU",
  "colab": {
   "machine_shape": "hm",
   "provenance": [
    {
     "file_id": "1pz6qIT7nTQSYWx7g6n0oWcOyBs0OCO-d",
     "timestamp": 1714030974161
    }
   ]
  },
  "kernelspec": {
   "display_name": "default:Python",
   "language": "python",
   "name": "conda-env-default-py"
  },
  "language_info": {
   "codemirror_mode": {
    "name": "ipython",
    "version": 3
   },
   "file_extension": ".py",
   "mimetype": "text/x-python",
   "name": "python",
   "nbconvert_exporter": "python",
   "pygments_lexer": "ipython3",
   "version": "3.9.19"
  }
 },
 "nbformat": 4,
 "nbformat_minor": 5
}
